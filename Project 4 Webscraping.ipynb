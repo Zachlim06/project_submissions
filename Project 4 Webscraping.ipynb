{
 "cells": [
  {
   "cell_type": "markdown",
   "metadata": {},
   "source": [
    "# ![](https://ga-dash.s3.amazonaws.com/production/assets/logo-9f88ae6c9c3871690e33280fcf557f33.png)  Project 4: Web Scraping Job Postings\n",
    "\n",
    "## Business Case Overview\n",
    "\n",
    "You're working as a data scientist for a contracting firm that's rapidly expanding. Now that they have their most valuable employee (you!), they need to leverage data to win more contracts. Your firm offers technology and scientific solutions and wants to be competitive in the hiring market. Your principal has two main objectives:\n",
    "\n",
    "   1. Determine the industry factors that are most important in predicting the salary amounts for these data.\n",
    "   2. Determine the factors that distinguish job categories and titles from each other. For example, can required skills accurately predict job title?\n",
    "\n",
    "To limit the scope, your principal has suggested that you *focus on data-related job postings*, e.g. data scientist, data analyst, research scientist, business intelligence, and any others you might think of. You may also want to decrease the scope by *limiting your search to a single region.*\n",
    "\n",
    "Hint: Aggregators like [Indeed.com](https://www.indeed.com) regularly pool job postings from a variety of markets and industries. \n",
    "\n",
    "**Goal:** Scrape your own data from a job aggregation tool like Indeed.com in order to collect the data to best answer these two questions.\n",
    "\n",
    "---\n",
    "\n",
    "## Directions\n",
    "\n",
    "In this project you will be leveraging a variety of skills. The first will be to use the web-scraping and/or API techniques you've learned to collect data on data jobs from Indeed.com or another aggregator. Once you have collected and cleaned the data, you will use it to answer the two questions described above.\n",
    "\n",
    "\n",
    "\n",
    "\n",
    "### BONUS PROBLEM\n",
    "\n",
    "Your boss would rather tell a client incorrectly that they would get a lower salary job than tell a client incorrectly that they would get a high salary job. Adjust one of your models to ease his mind, and explain what it is doing and any tradeoffs. Plot the ROC curve.\n",
    "\n",
    "---\n",
    "\n",
    "## Requirements\n",
    "\n",
    "1. Scrape and prepare your own data.\n",
    "\n",
    "2. **Create and compare at least two models for each section**. One of the two models should be a decision tree or ensemble model. The other can be a classifier or regression of your choosing (e.g. Ridge, logistic regression, KNN, SVM, etc).\n",
    "   - Section 1: Job Salary Trends\n",
    "   - Section 2: Job Category Factors\n",
    "\n",
    "3. Prepare a polished Jupyter Notebook with your analysis for a peer audience of data scientists. \n",
    "   - Make sure to clearly describe and label each section.\n",
    "   - Comment on your code so that others could, in theory, replicate your work.\n",
    "\n",
    "4. A brief writeup in an executive summary, written for a non-technical audience.\n",
    "   - Writeups should be at least 500-1000 words, defining any technical terms, explaining your approach, as well as any risks and limitations.\n",
    "\n",
    "\n",
    "\n",
    "## Suggestions for Getting Started\n",
    "\n",
    "1. Collect data from [Indeed.com](www.indeed.com) (or another aggregator) on data-related jobs to use in predicting salary trends for your analysis.\n",
    "  - Select and parse data from *at least 1000 postings* for jobs, potentially from multiple location searches.\n",
    "2. Find out what factors most directly impact salaries (e.g. title, location, department, etc).\n",
    "  - Test, validate, and describe your models. What factors predict salary category? How do your models perform?\n",
    "3. Discover which features have the greatest importance when determining a low vs. high paying job.\n",
    "  - Your Boss is interested in what overall features hold the greatest significance.\n",
    "  - HR is interested in which SKILLS and KEY WORDS hold the greatest significance.   \n",
    "4. Author an executive summary that details the highlights of your analysis for a non-technical audience.\n",
    "5. If tackling the bonus question, try framing the salary problem as a classification problem detecting low vs. high salary positions.\n",
    "\n",
    "---\n",
    "\n",
    "## Useful Resources\n",
    "\n",
    "- Scraping is one of the most fun, useful and interesting skills out there. Don’t lose out by copying someone else's code!\n",
    "- [Here is some advice on how to write for a non-technical audience](http://programmers.stackexchange.com/questions/11523/explaining-technical-things-to-non-technical-people)\n",
    "- [Documentation for BeautifulSoup can be found here](http://www.crummy.com/software/BeautifulSoup/).\n",
    "\n",
    "---\n",
    "\n",
    "### Project Feedback + Evaluation\n",
    "\n",
    "For all projects, students will be evaluated on a simple 3 point scale (0, 1, or 2). Instructors will use this rubric when scoring student performance on each of the core project **requirements:** \n",
    "\n",
    "Score | Expectations\n",
    "----- | ------------\n",
    "**0** | _Does not meet expectations. Try again._\n",
    "**1** | _Meets expectations. Good job._\n",
    "**2** | _Surpasses expectations. Brilliant!_\n",
    "\n",
    "[For more information on how we grade our DSI projects, see our project grading walkthrough.](https://git.generalassemb.ly/dsi-projects/readme/blob/master/README.md)\n"
   ]
  },
  {
   "cell_type": "markdown",
   "metadata": {},
   "source": [
    "# Webscraping Careers Future"
   ]
  },
  {
   "cell_type": "raw",
   "metadata": {},
   "source": [
    "from bs4 import BeautifulSoup\n",
    "import requests\n",
    "import re\n",
    "from fake_useragent import UserAgent\n",
    "\n",
    "from selenium import webdriver\n",
    "from time import sleep\n",
    "from selenium.webdriver.common.keys import Keys\n",
    "from selenium.webdriver.common.action_chains import ActionChains\n",
    "from xlsxwriter import Workbook\n",
    "import os\n",
    "\n",
    "import requests\n",
    "import shutil\n",
    "import math"
   ]
  },
  {
   "cell_type": "markdown",
   "metadata": {},
   "source": [
    "### We shall search jobs by term : 'Analytics' 1000+ search results, which includes Data jobs "
   ]
  },
  {
   "cell_type": "raw",
   "metadata": {},
   "source": [
    "\"\"\" DO NOT RUN!!!! UNLESS U WANNA SCRAP FOR 4 HRS\"\"\"\n",
    "\n",
    "# Create table\n",
    "columns = ['Title','Company','Location','Range','Monthly/Annual','Seniority','JD','Req','Industry']\n",
    "cf_df = pd.DataFrame(columns=columns)\n",
    "\n",
    "# Go to URL\n",
    "driver = webdriver.Chrome(r'C:\\Users\\Zach\\Downloads\\chromedriver_win32\\chromedriver') #\n",
    "url = 'https://www.mycareersfuture.sg/'\n",
    "driver.get(url)\n",
    "\n",
    "\n",
    "sleep(1)\n",
    "\n",
    "# search data jobs\n",
    "search_bar = driver.find_element_by_id(\"search-text\")\n",
    "search_param = 'analytics'\n",
    "search_bar.send_keys(search_param)\n",
    "sleep(1)\n",
    "search_bar.send_keys(Keys.RETURN)\n",
    "\n",
    "sleep(5)\n",
    "\n",
    "num_of_results = driver.find_element_by_xpath(\"//span[@id='search-results-message']/div\").text.split()[0]\n",
    "num_of_results = int(num_of_results.replace(',',''))\n",
    "num_of_pages = math.ceil(num_of_results/20)\n",
    "\n",
    "print('Number of Results:',num_of_results)\n",
    "print('Number of Pages',num_of_pages)\n",
    "\n",
    "\n",
    "try:\n",
    "    x_button = driver.find_element_by_xpath(\"//div[@id='snackbar']//span[@type='action']\")\n",
    "    x_button.click()\n",
    "except:\n",
    "    pass\n",
    "\n",
    "for page_num in range(num_of_pages):\n",
    "    \n",
    "    page_url = 'https://www.mycareersfuture.sg/search?search={}&sortBy=new_posting_date&page={}'.format(search_param,page_num)\n",
    "    driver.get(page_url)\n",
    "    try:\n",
    "        x_button = driver.find_element_by_xpath(\"//div[@id='snackbar']//span[@type='action']\")\n",
    "        x_button.click()\n",
    "    except:\n",
    "        pass\n",
    "    try:\n",
    "        close_add_skill = driver.find_element_by_xpath(\"//div[@id='page-search-results']//button[@class='joyride-tooltip__close']\")\n",
    "        close_add_skill.click() \n",
    "    except:\n",
    "        pass\n",
    "\n",
    "    for i in range(20):\n",
    "    \n",
    "        sleep(3)\n",
    "        \n",
    "        x_path =\"//div[@id='job-card-{}']//a[@class='bg-white mb3 w-100 dib v-top pa3 no-underline flex-ns flex-wrap JobCard__card___22xP3']\".format(i%20)\n",
    "        job_link= driver.find_element_by_xpath(x_path).get_attribute('href')\n",
    "        \n",
    "        # Switch control \n",
    "        driver2 = webdriver.Chrome(r'C:\\Users\\Zach\\Downloads\\chromedriver_win32\\chromedriver')\n",
    "        driver2.get(job_link)\n",
    "\n",
    "        sleep(5)\n",
    "        \n",
    "        # Title\n",
    "        try:\n",
    "            job_title = driver2.find_element_by_xpath(\"//h1[@id='job_title']\").text\n",
    "        except:\n",
    "            job_title = 'undisclosed'\n",
    "        # company name\n",
    "        try:    \n",
    "            company_name = driver2.find_element_by_xpath(\"//section[@id='job_details']//p[@name='company']\").text\n",
    "        except:\n",
    "            company_name = 'undisclosed'\n",
    "        #location\n",
    "        try:\n",
    "            job_loc = driver2.find_element_by_xpath(\"//p[@id='address']\").text\n",
    "        except:\n",
    "            job_loc = 'undisclosed'\n",
    "        # Salary Range\n",
    "        try:\n",
    "            salary_range = driver2.find_element_by_class_name(\"lh-solid\").text\n",
    "        except:\n",
    "            salary_range = 'undisclosed'\n",
    "        \n",
    "        # Annual or Monthly\n",
    "        try:\n",
    "            period_salary = driver2.find_element_by_class_name(\"salary_type\").text\n",
    "        except:\n",
    "            period_salary = 'undisclosed'\n",
    "        #Seniority\n",
    "        try:\n",
    "            seniority = driver2.find_element_by_id(\"seniority\").text\n",
    "        except:\n",
    "            seniority = 'undisclosed'\n",
    "        # Req\n",
    "        try:\n",
    "            requirements = driver2.find_element_by_id (\"requirements\").text\n",
    "        except:\n",
    "            requirements ='undisclosed'\n",
    "        # JD\n",
    "        try:\n",
    "            job_descr = driver2.find_element_by_xpath(\"//div [@id ='content']\").text\n",
    "        except:\n",
    "            job_descr = 'undisclosed'\n",
    "        #sector\n",
    "        try:\n",
    "            industry = driver2.find_element_by_xpath(\"//p [@id ='job-categories']\").text\n",
    "        except:\n",
    "            industry = 'undislosed'\n",
    "            \n",
    "        new_row= {'Title':job_title,\n",
    "            'Company':company_name,\n",
    "            'Location':job_loc,\n",
    "            'Range':salary_range,\n",
    "            'Monthly/Annual':period_salary,\n",
    "            'Seniority':seniority,\n",
    "            'Industry':industry,\n",
    "            'JD': job_descr,\n",
    "            'Req':requirements}\n",
    "        \n",
    "        cf_df = cf_df.append(new_row,ignore_index=True)\n",
    "        # Driver2 close\n",
    "        driver2.close()\n"
   ]
  },
  {
   "cell_type": "raw",
   "metadata": {
    "collapsed": true
   },
   "source": [
    "cf_df"
   ]
  },
  {
   "cell_type": "raw",
   "metadata": {},
   "source": [
    "cf_df.to_csv('analyticsfinal.csv',header=columns, index=False)"
   ]
  },
  {
   "cell_type": "markdown",
   "metadata": {},
   "source": [
    "### QUESTION 1: Factors that impact salary\n",
    "\n",
    "To predict salary you will be building either a classification or regression model, using features like the location, title, and summary of the job. If framing this as a regression problem, you will be estimating the listed salary amounts. You may instead choose to frame this as a classification problem, in which case you will create labels from these salaries (high vs. low salary, for example) according to thresholds (such as median salary).\n",
    "\n",
    "You have learned a variety of new skills and models that may be useful for this problem:\n",
    "- NLP\n",
    "- Unsupervised learning and dimensionality reduction techniques (PCA, clustering)\n",
    "- Ensemble methods and decision tree models\n",
    "- SVM models\n",
    "\n",
    "Whatever you decide to use, the most important thing is to justify your choices and interpret your results. *Communication of your process is key.* Note that most listings **DO NOT** come with salary information. You'll need to able to extrapolate or predict the expected salaries for these listings.\n"
   ]
  },
  {
   "cell_type": "code",
   "execution_count": 1,
   "metadata": {},
   "outputs": [],
   "source": [
    "import numpy as np\n",
    "import pandas as pd\n",
    "import matplotlib.pyplot as plt\n",
    "import seaborn as sns\n",
    "import numpy as np\n",
    "import pandas as pd\n",
    "import re"
   ]
  },
  {
   "cell_type": "code",
   "execution_count": 2,
   "metadata": {},
   "outputs": [],
   "source": [
    "analytics = pd.read_csv('analyticsfinal.csv')"
   ]
  },
  {
   "cell_type": "code",
   "execution_count": 3,
   "metadata": {},
   "outputs": [
    {
     "data": {
      "text/plain": [
       "(1040, 9)"
      ]
     },
     "execution_count": 3,
     "metadata": {},
     "output_type": "execute_result"
    }
   ],
   "source": [
    "analytics.shape"
   ]
  },
  {
   "cell_type": "code",
   "execution_count": 4,
   "metadata": {},
   "outputs": [
    {
     "data": {
      "text/plain": [
       "Title             object\n",
       "Company           object\n",
       "Location          object\n",
       "Range             object\n",
       "Monthly/Annual    object\n",
       "Seniority         object\n",
       "JD                object\n",
       "Req               object\n",
       "Industry          object\n",
       "dtype: object"
      ]
     },
     "execution_count": 4,
     "metadata": {},
     "output_type": "execute_result"
    }
   ],
   "source": [
    "analytics.dtypes"
   ]
  },
  {
   "cell_type": "code",
   "execution_count": 5,
   "metadata": {},
   "outputs": [
    {
     "data": {
      "text/plain": [
       "Index(['Title', 'Company', 'Location', 'Range', 'Monthly/Annual', 'Seniority',\n",
       "       'JD', 'Req', 'Industry'],\n",
       "      dtype='object')"
      ]
     },
     "execution_count": 5,
     "metadata": {},
     "output_type": "execute_result"
    }
   ],
   "source": [
    "analytics.columns"
   ]
  },
  {
   "cell_type": "code",
   "execution_count": 6,
   "metadata": {},
   "outputs": [],
   "source": [
    "# drop indices that are 'undisclosed' salary\n",
    "analytics.drop(index=analytics[analytics.Range == 'undisclosed'].index, inplace=True)"
   ]
  },
  {
   "cell_type": "code",
   "execution_count": 7,
   "metadata": {},
   "outputs": [],
   "source": [
    "analytics.reset_index(drop=True,inplace=True)"
   ]
  },
  {
   "cell_type": "code",
   "execution_count": 8,
   "metadata": {},
   "outputs": [
    {
     "name": "stdout",
     "output_type": "stream",
     "text": [
      "<class 'pandas.core.frame.DataFrame'>\n",
      "RangeIndex: 921 entries, 0 to 920\n",
      "Data columns (total 9 columns):\n",
      "Title             921 non-null object\n",
      "Company           921 non-null object\n",
      "Location          921 non-null object\n",
      "Range             921 non-null object\n",
      "Monthly/Annual    921 non-null object\n",
      "Seniority         921 non-null object\n",
      "JD                921 non-null object\n",
      "Req               921 non-null object\n",
      "Industry          921 non-null object\n",
      "dtypes: object(9)\n",
      "memory usage: 64.8+ KB\n"
     ]
    }
   ],
   "source": [
    "analytics.info()"
   ]
  },
  {
   "cell_type": "markdown",
   "metadata": {},
   "source": [
    "### Data Clean up and creating the target variable"
   ]
  },
  {
   "cell_type": "code",
   "execution_count": 9,
   "metadata": {},
   "outputs": [],
   "source": [
    "#cleanup the salary range column\n",
    "analytics.Range = analytics.Range.str.replace('$','')\n",
    "analytics.Range = analytics.Range.str.replace(',','')\n",
    "analytics.Range = analytics.Range.str.split('to')"
   ]
  },
  {
   "cell_type": "code",
   "execution_count": 10,
   "metadata": {},
   "outputs": [],
   "source": [
    "analytics['min_salary'] = analytics.Range.map(lambda x:x[0]).astype(float)"
   ]
  },
  {
   "cell_type": "code",
   "execution_count": 11,
   "metadata": {},
   "outputs": [],
   "source": [
    "analytics['max_salary'] = analytics.Range.map(lambda x:x[1]).astype(float)"
   ]
  },
  {
   "cell_type": "code",
   "execution_count": 12,
   "metadata": {},
   "outputs": [],
   "source": [
    "analytics['expected_salary'] = (analytics['min_salary'] + analytics['max_salary'])/2"
   ]
  },
  {
   "cell_type": "code",
   "execution_count": 13,
   "metadata": {},
   "outputs": [],
   "source": [
    "analytics['Monthly_expected_salary'] = analytics[analytics['Monthly/Annual'] == 'Annually']['expected_salary'].apply(lambda x:(x//12))"
   ]
  },
  {
   "cell_type": "code",
   "execution_count": 14,
   "metadata": {},
   "outputs": [],
   "source": [
    "# add new feature Expected monthly salary  \n",
    "analytics['Monthly_expected_salary'].fillna(analytics['expected_salary'],inplace=True)"
   ]
  },
  {
   "cell_type": "code",
   "execution_count": 15,
   "metadata": {},
   "outputs": [
    {
     "data": {
      "text/plain": [
       "Index(['Title', 'Company', 'Location', 'Range', 'Monthly/Annual', 'Seniority',\n",
       "       'JD', 'Req', 'Industry', 'min_salary', 'max_salary', 'expected_salary',\n",
       "       'Monthly_expected_salary'],\n",
       "      dtype='object')"
      ]
     },
     "execution_count": 15,
     "metadata": {},
     "output_type": "execute_result"
    }
   ],
   "source": [
    "analytics.columns"
   ]
  },
  {
   "cell_type": "code",
   "execution_count": 16,
   "metadata": {},
   "outputs": [],
   "source": [
    "# Drop those that we dont need\n",
    "analytics.drop (columns=['Range','expected_salary'],inplace=True)"
   ]
  },
  {
   "cell_type": "code",
   "execution_count": 17,
   "metadata": {},
   "outputs": [
    {
     "data": {
      "text/plain": [
       "Information Technology          325\n",
       "Banking and Finance              82\n",
       "Sciences / Laboratory / R&D      76\n",
       "Marketing / Public Relations     40\n",
       "Consulting                       38\n",
       "Name: Industry, dtype: int64"
      ]
     },
     "execution_count": 17,
     "metadata": {},
     "output_type": "execute_result"
    }
   ],
   "source": [
    "# Not surprising that \n",
    "analytics.Industry.value_counts().head()"
   ]
  },
  {
   "cell_type": "code",
   "execution_count": 18,
   "metadata": {},
   "outputs": [],
   "source": [
    "# clean up the JD and req column\n",
    "analytics.JD = analytics.JD.str.replace('\\r\\n',' ')\n",
    "analytics.Req = analytics.Req.str.replace('\\r\\n',' ')"
   ]
  },
  {
   "cell_type": "code",
   "execution_count": 19,
   "metadata": {},
   "outputs": [
    {
     "name": "stdout",
     "output_type": "stream",
     "text": [
      "Highest monthly salary 95000.0\n",
      "Lowest monthly salary 625.0\n"
     ]
    }
   ],
   "source": [
    "# looking at the salary ranges\n",
    "print('Highest monthly salary',analytics.Monthly_expected_salary.max()) # I gotta get me one of these jobs?\n",
    "print ('Lowest monthly salary',analytics.Monthly_expected_salary.min())"
   ]
  },
  {
   "cell_type": "code",
   "execution_count": 20,
   "metadata": {
    "scrolled": true
   },
   "outputs": [
    {
     "data": {
      "text/plain": [
       "Professional                                                        269\n",
       "Manager                                                             151\n",
       "Executive                                                           147\n",
       "Senior Executive                                                     80\n",
       "Middle Management                                                    56\n",
       "Non-executive                                                        38\n",
       "Senior Management                                                    34\n",
       "Junior Executive                                                     22\n",
       "Fresh/entry level                                                    18\n",
       "Middle Management, Manager                                           16\n",
       "Manager, Professional                                                12\n",
       "Executive, Senior Executive                                           9\n",
       "Manager, Senior Executive                                             8\n",
       "undisclosed                                                           7\n",
       "Executive, Junior Executive                                           6\n",
       "Senior Management, Manager                                            5\n",
       "Professional, Executive                                               4\n",
       "Executive, Non-executive                                              3\n",
       "Senior Management, Middle Management                                  3\n",
       "Fresh/entry level, Executive, Junior Executive                        2\n",
       "Professional, Executive, Junior Executive                             2\n",
       "Fresh/entry level, Junior Executive, Senior Executive                 2\n",
       "Senior Management, Middle Management, Manager                         2\n",
       "Fresh/entry level, Non-executive                                      2\n",
       "Middle Management, Manager, Professional                              2\n",
       "Junior Executive, Senior Executive                                    2\n",
       "Fresh/entry level, Executive                                          2\n",
       "Fresh/entry level, Professional                                       2\n",
       "Middle Management, Executive                                          2\n",
       "Senior Management, Middle Management, Professional                    1\n",
       "Fresh/entry level, Professional, Non-executive                        1\n",
       "Fresh/entry level, Executive, Non-executive, Junior Executive         1\n",
       "Middle Management, Professional                                       1\n",
       "Fresh/entry level, Executive, Junior Executive, Senior Executive      1\n",
       "Professional, Executive, Senior Executive                             1\n",
       "Professional, Senior Executive                                        1\n",
       "Professional, Non-executive                                           1\n",
       "Middle Management, Professional, Executive                            1\n",
       "Executive, Junior Executive, Senior Executive                         1\n",
       "Manager, Executive                                                    1\n",
       "Senior Management, Middle Management, Manager, Professional           1\n",
       "Manager, Professional, Senior Executive                               1\n",
       "Name: Seniority, dtype: int64"
      ]
     },
     "execution_count": 20,
     "metadata": {},
     "output_type": "execute_result"
    }
   ],
   "source": [
    "# Not sure if this can tell us anything\n",
    "# employers might just be spamming tags to up their chances of being found.\n",
    "analytics.Seniority.value_counts() "
   ]
  },
  {
   "cell_type": "raw",
   "metadata": {},
   "source": [
    "# There are 8 levels detailed on the website\n",
    "# we should labelencode maybe? The levels do mean something , we can feed this into data to find out \n",
    "8.Senior Management\n",
    "7.Middle Management\n",
    "6.Manager\n",
    "5.Professional\n",
    "4.Senior Executive\n",
    "3.Executive\n",
    "2.Junior Executive\n",
    "1.Non-executive\n",
    "0.Fresh/entry level"
   ]
  },
  {
   "cell_type": "code",
   "execution_count": 21,
   "metadata": {},
   "outputs": [],
   "source": [
    "#let's just take the first one\n",
    "analytics['Level'] = analytics.Seniority.apply(lambda x:x.split(',')[0])"
   ]
  },
  {
   "cell_type": "code",
   "execution_count": 22,
   "metadata": {},
   "outputs": [
    {
     "data": {
      "text/plain": [
       "array(['Manager', 'Middle Management', 'Professional', 'Senior Executive',\n",
       "       'Executive', 'Fresh/entry level', 'Senior Management',\n",
       "       'Non-executive', 'Junior Executive', 'undisclosed'], dtype=object)"
      ]
     },
     "execution_count": 22,
     "metadata": {},
     "output_type": "execute_result"
    }
   ],
   "source": [
    "analytics.Level.unique()"
   ]
  },
  {
   "cell_type": "code",
   "execution_count": 23,
   "metadata": {},
   "outputs": [],
   "source": [
    "#drop rows without seniority\n",
    "analytics.drop(index=analytics[analytics.Level == 'undisclosed'].index, inplace=True)"
   ]
  },
  {
   "cell_type": "code",
   "execution_count": 24,
   "metadata": {
    "scrolled": true
   },
   "outputs": [],
   "source": [
    "analytics.reset_index(drop=True, inplace=True)"
   ]
  },
  {
   "cell_type": "code",
   "execution_count": 25,
   "metadata": {},
   "outputs": [
    {
     "data": {
      "text/plain": [
       "118"
      ]
     },
     "execution_count": 25,
     "metadata": {},
     "output_type": "execute_result"
    }
   ],
   "source": [
    "# same for the industry columns?\n",
    "# there are 118 with second industry out of 921 . Keep the first one\n",
    "len([list[1] for list in analytics.Industry.apply(lambda x:x.split(',')) if len(list) >=2])"
   ]
  },
  {
   "cell_type": "markdown",
   "metadata": {},
   "source": [
    "### EDA"
   ]
  },
  {
   "cell_type": "code",
   "execution_count": 26,
   "metadata": {},
   "outputs": [],
   "source": [
    "analytics['Req'] = analytics.Req.apply(lambda x:x.lower())"
   ]
  },
  {
   "cell_type": "code",
   "execution_count": 27,
   "metadata": {},
   "outputs": [
    {
     "name": "stdout",
     "output_type": "stream",
     "text": [
      "Requires Degree: 475\n",
      "Requires Masters: 94\n",
      "Requires PhD: 65\n"
     ]
    }
   ],
   "source": [
    "# about half of the jobs explicitly state they require at least a degree\n",
    "print('Requires Degree:' , len(analytics[analytics.Req.str.contains('bsc|degree|bachelor')]))\n",
    "print('Requires Masters:' , len(analytics[analytics.Req.str.contains('master')]))\n",
    "print('Requires PhD:' , len(analytics[analytics.Req.str.contains('phd')]))"
   ]
  },
  {
   "cell_type": "code",
   "execution_count": 28,
   "metadata": {},
   "outputs": [
    {
     "data": {
      "image/png": "[encoded data removed]",
      "text/plain": [
       "<Figure size 1080x360 with 1 Axes>"
      ]
     },
     "metadata": {},
     "output_type": "display_data"
    }
   ],
   "source": [
    "#distribution of seniority vs monthly expected pay \n",
    "sns.set_style(\"whitegrid\")\n",
    "plt.figure(figsize=(15,5))\n",
    "analytics.groupby('Level')['Monthly_expected_salary'].mean().sort_values().plot(kind='bar')\n",
    "plt.title ('Level vs Monthly Expected Pay')\n",
    "plt.xlabel('Seniority')\n",
    "plt.ylabel('Expected Monthly Salary')\n",
    "plt.tight_layout()\n",
    "plt.show()"
   ]
  },
  {
   "cell_type": "code",
   "execution_count": 29,
   "metadata": {},
   "outputs": [],
   "source": [
    "#Outliers? Lets try to visualised the outliers"
   ]
  },
  {
   "cell_type": "code",
   "execution_count": 30,
   "metadata": {},
   "outputs": [],
   "source": [
    "analytics['Level_num'] = analytics['Level'].replace({'Senior Management':8,\n",
    "                            'Middle Management':7,\n",
    "                            'Manager':6,\n",
    "                            'Professional':5,\n",
    "                            'Senior Executive':4,\n",
    "                            'Executive':3,\n",
    "                            'Junior Executive':2,\n",
    "                            'Non-executive':1,\n",
    "                            'Fresh/entry level':0,\n",
    "                           'undisclosed':'undisclosed'})"
   ]
  },
  {
   "cell_type": "code",
   "execution_count": 31,
   "metadata": {},
   "outputs": [
    {
     "data": {
      "image/png": "[encoded data removed]",
      "text/plain": [
       "<Figure size 360x360 with 1 Axes>"
      ]
     },
     "metadata": {},
     "output_type": "display_data"
    }
   ],
   "source": [
    "#distribution of seniority vs monthly expected pay \n",
    "# there are 2 clear outliers. \n",
    "sns.set_style(\"whitegrid\")\n",
    "plt.figure(figsize=(5,5))\n",
    "plt.scatter(analytics['Level_num'],analytics['Monthly_expected_salary'])\n",
    "plt.title ('Seniority vs Monthly Expected Pay')\n",
    "plt.xlabel('Seniority')\n",
    "plt.ylabel('Expected Monthly Salary')\n",
    "plt.show()"
   ]
  },
  {
   "cell_type": "code",
   "execution_count": 32,
   "metadata": {},
   "outputs": [
    {
     "data": {
      "text/html": [
       "<div>\n",
       "<style scoped>\n",
       "    .dataframe tbody tr th:only-of-type {\n",
       "        vertical-align: middle;\n",
       "    }\n",
       "\n",
       "    .dataframe tbody tr th {\n",
       "        vertical-align: top;\n",
       "    }\n",
       "\n",
       "    .dataframe thead th {\n",
       "        text-align: right;\n",
       "    }\n",
       "</style>\n",
       "<table border=\"1\" class=\"dataframe\">\n",
       "  <thead>\n",
       "    <tr style=\"text-align: right;\">\n",
       "      <th></th>\n",
       "      <th>Title</th>\n",
       "      <th>Company</th>\n",
       "      <th>Location</th>\n",
       "      <th>Monthly/Annual</th>\n",
       "      <th>Seniority</th>\n",
       "      <th>JD</th>\n",
       "      <th>Req</th>\n",
       "      <th>Industry</th>\n",
       "      <th>min_salary</th>\n",
       "      <th>max_salary</th>\n",
       "      <th>Monthly_expected_salary</th>\n",
       "      <th>Level</th>\n",
       "      <th>Level_num</th>\n",
       "    </tr>\n",
       "  </thead>\n",
       "  <tbody>\n",
       "    <tr>\n",
       "      <th>683</th>\n",
       "      <td>Data Scientist</td>\n",
       "      <td>EXIGER SINGAPORE PTE. LTD.</td>\n",
       "      <td>OCBC CENTRE, 65 CHULIA STREET 049513</td>\n",
       "      <td>Monthly</td>\n",
       "      <td>Professional</td>\n",
       "      <td>Position Summary We are looking for a resource...</td>\n",
       "      <td>requirements professional experience required ...</td>\n",
       "      <td>Information Technology, Professional Services</td>\n",
       "      <td>12000.0</td>\n",
       "      <td>160000.0</td>\n",
       "      <td>86000.0</td>\n",
       "      <td>Professional</td>\n",
       "      <td>5</td>\n",
       "    </tr>\n",
       "    <tr>\n",
       "      <th>808</th>\n",
       "      <td>Business Intelligence Finance Senior Analyst /...</td>\n",
       "      <td>KERRY CONSULTING PTE. LTD.</td>\n",
       "      <td>SUNTEC TOWER FOUR, 6 TEMASEK BOULEVARD 038986</td>\n",
       "      <td>Monthly</td>\n",
       "      <td>Manager</td>\n",
       "      <td>- Established Industry Leader - Newly Created ...</td>\n",
       "      <td>requirements the successful candidate should h...</td>\n",
       "      <td>Accounting / Auditing / Taxation</td>\n",
       "      <td>70000.0</td>\n",
       "      <td>120000.0</td>\n",
       "      <td>95000.0</td>\n",
       "      <td>Manager</td>\n",
       "      <td>6</td>\n",
       "    </tr>\n",
       "  </tbody>\n",
       "</table>\n",
       "</div>"
      ],
      "text/plain": [
       "                                                 Title  \\\n",
       "683                                     Data Scientist   \n",
       "808  Business Intelligence Finance Senior Analyst /...   \n",
       "\n",
       "                        Company  \\\n",
       "683  EXIGER SINGAPORE PTE. LTD.   \n",
       "808  KERRY CONSULTING PTE. LTD.   \n",
       "\n",
       "                                          Location Monthly/Annual  \\\n",
       "683           OCBC CENTRE, 65 CHULIA STREET 049513        Monthly   \n",
       "808  SUNTEC TOWER FOUR, 6 TEMASEK BOULEVARD 038986        Monthly   \n",
       "\n",
       "        Seniority                                                 JD  \\\n",
       "683  Professional  Position Summary We are looking for a resource...   \n",
       "808       Manager  - Established Industry Leader - Newly Created ...   \n",
       "\n",
       "                                                   Req  \\\n",
       "683  requirements professional experience required ...   \n",
       "808  requirements the successful candidate should h...   \n",
       "\n",
       "                                          Industry  min_salary  max_salary  \\\n",
       "683  Information Technology, Professional Services     12000.0    160000.0   \n",
       "808               Accounting / Auditing / Taxation     70000.0    120000.0   \n",
       "\n",
       "     Monthly_expected_salary         Level  Level_num  \n",
       "683                  86000.0  Professional          5  \n",
       "808                  95000.0       Manager          6  "
      ]
     },
     "execution_count": 32,
     "metadata": {},
     "output_type": "execute_result"
    }
   ],
   "source": [
    "# which 2? big salary range offered (160,000 - 12,000) and (120,000 - 70,000)\n",
    "# Looks like another 0 is wrongly added. Let's correct that \n",
    "analytics[analytics['Monthly_expected_salary']>40000]\n"
   ]
  },
  {
   "cell_type": "code",
   "execution_count": 33,
   "metadata": {},
   "outputs": [
    {
     "name": "stdout",
     "output_type": "stream",
     "text": [
      "Title                                                         Data Scientist\n",
      "Company                                           EXIGER SINGAPORE PTE. LTD.\n",
      "Location                                OCBC CENTRE, 65 CHULIA STREET 049513\n",
      "Monthly/Annual                                                       Monthly\n",
      "Seniority                                                       Professional\n",
      "JD                         Position Summary We are looking for a resource...\n",
      "Req                        requirements professional experience required ...\n",
      "Industry                       Information Technology, Professional Services\n",
      "min_salary                                                             12000\n",
      "max_salary                                                            160000\n",
      "Monthly_expected_salary                                                86000\n",
      "Level                                                           Professional\n",
      "Level_num                                                                  5\n",
      "Name: 683, dtype: object\n",
      "Title                      Business Intelligence Finance Senior Analyst /...\n",
      "Company                                           KERRY CONSULTING PTE. LTD.\n",
      "Location                       SUNTEC TOWER FOUR, 6 TEMASEK BOULEVARD 038986\n",
      "Monthly/Annual                                                       Monthly\n",
      "Seniority                                                            Manager\n",
      "JD                         - Established Industry Leader - Newly Created ...\n",
      "Req                        requirements the successful candidate should h...\n",
      "Industry                                    Accounting / Auditing / Taxation\n",
      "min_salary                                                             70000\n",
      "max_salary                                                            120000\n",
      "Monthly_expected_salary                                                95000\n",
      "Level                                                                Manager\n",
      "Level_num                                                                  6\n",
      "Name: 808, dtype: object\n"
     ]
    }
   ],
   "source": [
    "print(analytics.iloc[683,:]) # amended\n",
    "print(analytics.iloc[808,:]) # Drop! Outlier"
   ]
  },
  {
   "cell_type": "code",
   "execution_count": 34,
   "metadata": {},
   "outputs": [],
   "source": [
    "# amending the error\n",
    "\n",
    "analytics.iloc[683,10] =14000\n",
    "analytics.iloc[683,9] =16000"
   ]
  },
  {
   "cell_type": "code",
   "execution_count": 35,
   "metadata": {},
   "outputs": [],
   "source": [
    "analytics.drop(index=808, inplace=True)"
   ]
  },
  {
   "cell_type": "code",
   "execution_count": 36,
   "metadata": {},
   "outputs": [],
   "source": [
    "analytics.reset_index(drop=True, inplace=True)"
   ]
  },
  {
   "cell_type": "code",
   "execution_count": 37,
   "metadata": {},
   "outputs": [
    {
     "data": {
      "image/png": "[encoded data removed]",
      "text/plain": [
       "<Figure size 360x360 with 1 Axes>"
      ]
     },
     "metadata": {},
     "output_type": "display_data"
    }
   ],
   "source": [
    "#distribution of seniority vs monthly expected pay \n",
    "# Outliers removed.  \n",
    "sns.set_style(\"whitegrid\")\n",
    "plt.figure(figsize=(5,5))\n",
    "plt.scatter(analytics['Level_num'],analytics['Monthly_expected_salary'])\n",
    "plt.title ('Seniority vs Monthly Expected Pay')\n",
    "plt.xlabel('Seniority')\n",
    "plt.ylabel('Expected Monthly Salary')\n",
    "plt.show()"
   ]
  },
  {
   "cell_type": "code",
   "execution_count": 38,
   "metadata": {},
   "outputs": [
    {
     "data": {
      "image/png": "[encoded data removed]",
      "text/plain": [
       "<Figure size 720x360 with 1 Axes>"
      ]
     },
     "metadata": {},
     "output_type": "display_data"
    }
   ],
   "source": [
    "# Salaries are very right skewed. Highest wage earners make multiples of the mode ,median and mean\n",
    "plt.figure (figsize = (10,5))\n",
    "sns.distplot(analytics['Monthly_expected_salary'],norm_hist=False,kde=False,bins = 65)\n",
    "plt.title ('Distribution of salaries')\n",
    "plt.xlabel ('Expected Monthly Salary')\n",
    "plt.show()"
   ]
  },
  {
   "cell_type": "code",
   "execution_count": 39,
   "metadata": {
    "scrolled": true
   },
   "outputs": [
    {
     "data": {
      "text/html": [
       "<div>\n",
       "<style scoped>\n",
       "    .dataframe tbody tr th:only-of-type {\n",
       "        vertical-align: middle;\n",
       "    }\n",
       "\n",
       "    .dataframe tbody tr th {\n",
       "        vertical-align: top;\n",
       "    }\n",
       "\n",
       "    .dataframe thead th {\n",
       "        text-align: right;\n",
       "    }\n",
       "</style>\n",
       "<table border=\"1\" class=\"dataframe\">\n",
       "  <thead>\n",
       "    <tr style=\"text-align: right;\">\n",
       "      <th></th>\n",
       "      <th>Title</th>\n",
       "      <th>Company</th>\n",
       "      <th>Location</th>\n",
       "      <th>Monthly/Annual</th>\n",
       "      <th>Seniority</th>\n",
       "      <th>JD</th>\n",
       "      <th>Req</th>\n",
       "      <th>Industry</th>\n",
       "      <th>min_salary</th>\n",
       "      <th>max_salary</th>\n",
       "      <th>Monthly_expected_salary</th>\n",
       "      <th>Level</th>\n",
       "      <th>Level_num</th>\n",
       "    </tr>\n",
       "  </thead>\n",
       "  <tbody>\n",
       "    <tr>\n",
       "      <th>328</th>\n",
       "      <td>Software Engineer (Frontend)</td>\n",
       "      <td>NTUC ENTERPRISE NEXUS CO-OPERATIVE LIMITED</td>\n",
       "      <td>undisclosed</td>\n",
       "      <td>Monthly</td>\n",
       "      <td>Professional</td>\n",
       "      <td>Today, we have embarked on a transformation an...</td>\n",
       "      <td>requirements requirements   ·      4 years of ...</td>\n",
       "      <td>Information Technology</td>\n",
       "      <td>6000.0</td>\n",
       "      <td>12000.0</td>\n",
       "      <td>9000.0</td>\n",
       "      <td>Professional</td>\n",
       "      <td>5</td>\n",
       "    </tr>\n",
       "    <tr>\n",
       "      <th>89</th>\n",
       "      <td>Data Engineer (Big Data)</td>\n",
       "      <td>COMPANY UNDISCLOSED</td>\n",
       "      <td>undisclosed</td>\n",
       "      <td>Monthly</td>\n",
       "      <td>Executive</td>\n",
       "      <td>Being part of the Data Engineering Team to con...</td>\n",
       "      <td>requirements you have 10+ years hands-on exper...</td>\n",
       "      <td>Engineering, Information Technology, Others</td>\n",
       "      <td>6000.0</td>\n",
       "      <td>8000.0</td>\n",
       "      <td>7000.0</td>\n",
       "      <td>Executive</td>\n",
       "      <td>3</td>\n",
       "    </tr>\n",
       "    <tr>\n",
       "      <th>339</th>\n",
       "      <td>Principal Engineer (Android)</td>\n",
       "      <td>NTUC ENTERPRISE NEXUS CO-OPERATIVE LIMITED</td>\n",
       "      <td>undisclosed</td>\n",
       "      <td>Monthly</td>\n",
       "      <td>Professional</td>\n",
       "      <td>Today, we have embarked on a transformation an...</td>\n",
       "      <td>requirements requirements   ·      6 years of ...</td>\n",
       "      <td>Information Technology</td>\n",
       "      <td>8000.0</td>\n",
       "      <td>15000.0</td>\n",
       "      <td>11500.0</td>\n",
       "      <td>Professional</td>\n",
       "      <td>5</td>\n",
       "    </tr>\n",
       "    <tr>\n",
       "      <th>254</th>\n",
       "      <td>Intern / Associate Engineer (Fullstack)</td>\n",
       "      <td>NTUC ENTERPRISE CO-OPERATIVE LTD</td>\n",
       "      <td>undisclosed</td>\n",
       "      <td>Monthly</td>\n",
       "      <td>Professional</td>\n",
       "      <td>NTUC Enterprise is part of NTUC’s Group of Soc...</td>\n",
       "      <td>requirements requirements  ·       3  years of...</td>\n",
       "      <td>Information Technology</td>\n",
       "      <td>5000.0</td>\n",
       "      <td>8000.0</td>\n",
       "      <td>6500.0</td>\n",
       "      <td>Professional</td>\n",
       "      <td>5</td>\n",
       "    </tr>\n",
       "    <tr>\n",
       "      <th>71</th>\n",
       "      <td>Consultant, BU Planning</td>\n",
       "      <td>DELL GLOBAL B.V. (SINGAPORE BRANCH)</td>\n",
       "      <td>MARINA BAY FINANCIAL CENTRE, 8 MARINA BOULEVAR...</td>\n",
       "      <td>Monthly</td>\n",
       "      <td>Senior Management</td>\n",
       "      <td>Consultant, Marketing Operations – BU Planning...</td>\n",
       "      <td>requirements qualifications &amp; experience •    ...</td>\n",
       "      <td>Marketing / Public Relations</td>\n",
       "      <td>10000.0</td>\n",
       "      <td>18000.0</td>\n",
       "      <td>14000.0</td>\n",
       "      <td>Senior Management</td>\n",
       "      <td>8</td>\n",
       "    </tr>\n",
       "    <tr>\n",
       "      <th>337</th>\n",
       "      <td>Intern (Backend)</td>\n",
       "      <td>NTUC ENTERPRISE NEXUS CO-OPERATIVE LIMITED</td>\n",
       "      <td>undisclosed</td>\n",
       "      <td>Monthly</td>\n",
       "      <td>Professional</td>\n",
       "      <td>Today, we have embarked on a transformation an...</td>\n",
       "      <td>requirements requirements   ·       3 years of...</td>\n",
       "      <td>Information Technology</td>\n",
       "      <td>5000.0</td>\n",
       "      <td>8000.0</td>\n",
       "      <td>6500.0</td>\n",
       "      <td>Professional</td>\n",
       "      <td>5</td>\n",
       "    </tr>\n",
       "    <tr>\n",
       "      <th>437</th>\n",
       "      <td>Data Analyst</td>\n",
       "      <td>WEGO PTE. LTD.</td>\n",
       "      <td>SHAW TOWERS, 100 BEACH ROAD 189702</td>\n",
       "      <td>Monthly</td>\n",
       "      <td>Fresh/entry level, Executive, Non-executive, J...</td>\n",
       "      <td>As part of the Data Science and Analytics team...</td>\n",
       "      <td>requirements experience with statistical analy...</td>\n",
       "      <td>Information Technology</td>\n",
       "      <td>4500.0</td>\n",
       "      <td>7500.0</td>\n",
       "      <td>6000.0</td>\n",
       "      <td>Fresh/entry level</td>\n",
       "      <td>0</td>\n",
       "    </tr>\n",
       "    <tr>\n",
       "      <th>44</th>\n",
       "      <td>Senior Solutions Architect - Technical Lead</td>\n",
       "      <td>PALO IT SINGAPORE PTE. LTD.</td>\n",
       "      <td>51B CIRCULAR ROAD 049406</td>\n",
       "      <td>Monthly</td>\n",
       "      <td>Senior Executive</td>\n",
       "      <td>About us PALO IT is an innovation &amp; agile deve...</td>\n",
       "      <td>requirements still you: ✔ you are a creative i...</td>\n",
       "      <td>Information Technology</td>\n",
       "      <td>6000.0</td>\n",
       "      <td>12000.0</td>\n",
       "      <td>9000.0</td>\n",
       "      <td>Senior Executive</td>\n",
       "      <td>4</td>\n",
       "    </tr>\n",
       "    <tr>\n",
       "      <th>739</th>\n",
       "      <td>Assistant Vice President, Data Management Office</td>\n",
       "      <td>COMPANY UNDISCLOSED</td>\n",
       "      <td>undisclosed</td>\n",
       "      <td>Monthly</td>\n",
       "      <td>Middle Management</td>\n",
       "      <td>The Data Management Office (DMO) is a business...</td>\n",
       "      <td>requirements degree in analytical disciplines ...</td>\n",
       "      <td>Banking and Finance</td>\n",
       "      <td>6000.0</td>\n",
       "      <td>9000.0</td>\n",
       "      <td>7500.0</td>\n",
       "      <td>Middle Management</td>\n",
       "      <td>7</td>\n",
       "    </tr>\n",
       "    <tr>\n",
       "      <th>191</th>\n",
       "      <td>Data Analyst (64803)</td>\n",
       "      <td>SIEMENS PTE. LTD.</td>\n",
       "      <td>THE SIEMENS CENTRE, 60 MACPHERSON ROAD 348615</td>\n",
       "      <td>Monthly</td>\n",
       "      <td>Professional</td>\n",
       "      <td>Your new role – challenging and future-oriente...</td>\n",
       "      <td>requirements your qualifications – solid and a...</td>\n",
       "      <td>Consulting , Engineering</td>\n",
       "      <td>4500.0</td>\n",
       "      <td>8000.0</td>\n",
       "      <td>6250.0</td>\n",
       "      <td>Professional</td>\n",
       "      <td>5</td>\n",
       "    </tr>\n",
       "  </tbody>\n",
       "</table>\n",
       "</div>"
      ],
      "text/plain": [
       "                                                Title  \\\n",
       "328                      Software Engineer (Frontend)   \n",
       "89                           Data Engineer (Big Data)   \n",
       "339                      Principal Engineer (Android)   \n",
       "254           Intern / Associate Engineer (Fullstack)   \n",
       "71                            Consultant, BU Planning   \n",
       "337                                  Intern (Backend)   \n",
       "437                                      Data Analyst   \n",
       "44        Senior Solutions Architect - Technical Lead   \n",
       "739  Assistant Vice President, Data Management Office   \n",
       "191                              Data Analyst (64803)   \n",
       "\n",
       "                                        Company  \\\n",
       "328  NTUC ENTERPRISE NEXUS CO-OPERATIVE LIMITED   \n",
       "89                          COMPANY UNDISCLOSED   \n",
       "339  NTUC ENTERPRISE NEXUS CO-OPERATIVE LIMITED   \n",
       "254            NTUC ENTERPRISE CO-OPERATIVE LTD   \n",
       "71          DELL GLOBAL B.V. (SINGAPORE BRANCH)   \n",
       "337  NTUC ENTERPRISE NEXUS CO-OPERATIVE LIMITED   \n",
       "437                              WEGO PTE. LTD.   \n",
       "44                  PALO IT SINGAPORE PTE. LTD.   \n",
       "739                         COMPANY UNDISCLOSED   \n",
       "191                           SIEMENS PTE. LTD.   \n",
       "\n",
       "                                              Location Monthly/Annual  \\\n",
       "328                                        undisclosed        Monthly   \n",
       "89                                         undisclosed        Monthly   \n",
       "339                                        undisclosed        Monthly   \n",
       "254                                        undisclosed        Monthly   \n",
       "71   MARINA BAY FINANCIAL CENTRE, 8 MARINA BOULEVAR...        Monthly   \n",
       "337                                        undisclosed        Monthly   \n",
       "437                 SHAW TOWERS, 100 BEACH ROAD 189702        Monthly   \n",
       "44                            51B CIRCULAR ROAD 049406        Monthly   \n",
       "739                                        undisclosed        Monthly   \n",
       "191      THE SIEMENS CENTRE, 60 MACPHERSON ROAD 348615        Monthly   \n",
       "\n",
       "                                             Seniority  \\\n",
       "328                                       Professional   \n",
       "89                                           Executive   \n",
       "339                                       Professional   \n",
       "254                                       Professional   \n",
       "71                                   Senior Management   \n",
       "337                                       Professional   \n",
       "437  Fresh/entry level, Executive, Non-executive, J...   \n",
       "44                                    Senior Executive   \n",
       "739                                  Middle Management   \n",
       "191                                       Professional   \n",
       "\n",
       "                                                    JD  \\\n",
       "328  Today, we have embarked on a transformation an...   \n",
       "89   Being part of the Data Engineering Team to con...   \n",
       "339  Today, we have embarked on a transformation an...   \n",
       "254  NTUC Enterprise is part of NTUC’s Group of Soc...   \n",
       "71   Consultant, Marketing Operations – BU Planning...   \n",
       "337  Today, we have embarked on a transformation an...   \n",
       "437  As part of the Data Science and Analytics team...   \n",
       "44   About us PALO IT is an innovation & agile deve...   \n",
       "739  The Data Management Office (DMO) is a business...   \n",
       "191  Your new role – challenging and future-oriente...   \n",
       "\n",
       "                                                   Req  \\\n",
       "328  requirements requirements   ·      4 years of ...   \n",
       "89   requirements you have 10+ years hands-on exper...   \n",
       "339  requirements requirements   ·      6 years of ...   \n",
       "254  requirements requirements  ·       3  years of...   \n",
       "71   requirements qualifications & experience •    ...   \n",
       "337  requirements requirements   ·       3 years of...   \n",
       "437  requirements experience with statistical analy...   \n",
       "44   requirements still you: ✔ you are a creative i...   \n",
       "739  requirements degree in analytical disciplines ...   \n",
       "191  requirements your qualifications – solid and a...   \n",
       "\n",
       "                                        Industry  min_salary  max_salary  \\\n",
       "328                       Information Technology      6000.0     12000.0   \n",
       "89   Engineering, Information Technology, Others      6000.0      8000.0   \n",
       "339                       Information Technology      8000.0     15000.0   \n",
       "254                       Information Technology      5000.0      8000.0   \n",
       "71                  Marketing / Public Relations     10000.0     18000.0   \n",
       "337                       Information Technology      5000.0      8000.0   \n",
       "437                       Information Technology      4500.0      7500.0   \n",
       "44                        Information Technology      6000.0     12000.0   \n",
       "739                          Banking and Finance      6000.0      9000.0   \n",
       "191                     Consulting , Engineering      4500.0      8000.0   \n",
       "\n",
       "     Monthly_expected_salary              Level  Level_num  \n",
       "328                   9000.0       Professional          5  \n",
       "89                    7000.0          Executive          3  \n",
       "339                  11500.0       Professional          5  \n",
       "254                   6500.0       Professional          5  \n",
       "71                   14000.0  Senior Management          8  \n",
       "337                   6500.0       Professional          5  \n",
       "437                   6000.0  Fresh/entry level          0  \n",
       "44                    9000.0   Senior Executive          4  \n",
       "739                   7500.0  Middle Management          7  \n",
       "191                   6250.0       Professional          5  "
      ]
     },
     "execution_count": 39,
     "metadata": {},
     "output_type": "execute_result"
    }
   ],
   "source": [
    "analytics.sample(10)"
   ]
  },
  {
   "cell_type": "code",
   "execution_count": 40,
   "metadata": {},
   "outputs": [],
   "source": [
    "cols = analytics.columns.tolist()"
   ]
  },
  {
   "cell_type": "code",
   "execution_count": 41,
   "metadata": {},
   "outputs": [],
   "source": [
    "# assigning predictors for a baseline regressor\n",
    "cols =['Title',\n",
    " 'Company',\n",
    " 'Industry',\n",
    " 'Level']"
   ]
  },
  {
   "cell_type": "code",
   "execution_count": 42,
   "metadata": {},
   "outputs": [
    {
     "data": {
      "text/html": [
       "<div>\n",
       "<style scoped>\n",
       "    .dataframe tbody tr th:only-of-type {\n",
       "        vertical-align: middle;\n",
       "    }\n",
       "\n",
       "    .dataframe tbody tr th {\n",
       "        vertical-align: top;\n",
       "    }\n",
       "\n",
       "    .dataframe thead th {\n",
       "        text-align: right;\n",
       "    }\n",
       "</style>\n",
       "<table border=\"1\" class=\"dataframe\">\n",
       "  <thead>\n",
       "    <tr style=\"text-align: right;\">\n",
       "      <th></th>\n",
       "      <th>Title</th>\n",
       "      <th>Company</th>\n",
       "      <th>Industry</th>\n",
       "      <th>Level</th>\n",
       "    </tr>\n",
       "  </thead>\n",
       "  <tbody>\n",
       "    <tr>\n",
       "      <th>0</th>\n",
       "      <td>Delivery Lead – Singapore (PACE Analytics)</td>\n",
       "      <td>RIO TINTO SINGAPORE HOLDINGS PTE. LTD.</td>\n",
       "      <td>Information Technology</td>\n",
       "      <td>Manager</td>\n",
       "    </tr>\n",
       "    <tr>\n",
       "      <th>1</th>\n",
       "      <td>VP / AVP, Machine Learning Engineer, Group Con...</td>\n",
       "      <td>DBS BANK LTD.</td>\n",
       "      <td>Banking and Finance</td>\n",
       "      <td>Middle Management</td>\n",
       "    </tr>\n",
       "    <tr>\n",
       "      <th>2</th>\n",
       "      <td>VP / AVP, Senior Data Engineer, Group Consumer...</td>\n",
       "      <td>DBS BANK LTD.</td>\n",
       "      <td>Banking and Finance</td>\n",
       "      <td>Middle Management</td>\n",
       "    </tr>\n",
       "    <tr>\n",
       "      <th>3</th>\n",
       "      <td>VP / AVP, Sr. Frontend Developer, Group Consum...</td>\n",
       "      <td>DBS BANK LTD.</td>\n",
       "      <td>Banking and Finance</td>\n",
       "      <td>Middle Management</td>\n",
       "    </tr>\n",
       "    <tr>\n",
       "      <th>4</th>\n",
       "      <td>Research Scientist - Energy Systems</td>\n",
       "      <td>GLOBESOFT SERVICES PTE. LTD.</td>\n",
       "      <td>Sciences / Laboratory / R&amp;D</td>\n",
       "      <td>Professional</td>\n",
       "    </tr>\n",
       "    <tr>\n",
       "      <th>5</th>\n",
       "      <td>International Business Analyst</td>\n",
       "      <td>SCHNEIDER ELECTRIC IT LOGISTICS ASIA PACIFIC P...</td>\n",
       "      <td>Consulting</td>\n",
       "      <td>Senior Executive</td>\n",
       "    </tr>\n",
       "    <tr>\n",
       "      <th>6</th>\n",
       "      <td>IT Security Analyst (VPN, Firewall, Proxy, Dat...</td>\n",
       "      <td>TECHCOM SOLUTIONS &amp; CONSULTANCY PTE. LTD.</td>\n",
       "      <td>Banking and Finance, Information Technology</td>\n",
       "      <td>Middle Management</td>\n",
       "    </tr>\n",
       "    <tr>\n",
       "      <th>7</th>\n",
       "      <td>Senior Manager / Manager / Senior Consultant</td>\n",
       "      <td>DELOITTE &amp; TOUCHE ENTERPRISE RISK SERVICES PTE...</td>\n",
       "      <td>Risk Management</td>\n",
       "      <td>Manager</td>\n",
       "    </tr>\n",
       "    <tr>\n",
       "      <th>8</th>\n",
       "      <td>Senior Manager / Manager / Senior Consultant</td>\n",
       "      <td>DELOITTE &amp; TOUCHE ENTERPRISE RISK SERVICES PTE...</td>\n",
       "      <td>Risk Management</td>\n",
       "      <td>Manager</td>\n",
       "    </tr>\n",
       "    <tr>\n",
       "      <th>9</th>\n",
       "      <td>Marketing Operations Specialist</td>\n",
       "      <td>TALEND SINGAPORE PTE. LTD.</td>\n",
       "      <td>Marketing / Public Relations</td>\n",
       "      <td>Executive</td>\n",
       "    </tr>\n",
       "    <tr>\n",
       "      <th>10</th>\n",
       "      <td>Senior Recruiter, APAC</td>\n",
       "      <td>TALEND SINGAPORE PTE. LTD.</td>\n",
       "      <td>Human Resources</td>\n",
       "      <td>Senior Executive</td>\n",
       "    </tr>\n",
       "    <tr>\n",
       "      <th>11</th>\n",
       "      <td>Web Designer</td>\n",
       "      <td>GLOBIBO PTE. LTD.</td>\n",
       "      <td>Design, Information Technology, Travel / Tourism</td>\n",
       "      <td>Fresh/entry level</td>\n",
       "    </tr>\n",
       "    <tr>\n",
       "      <th>12</th>\n",
       "      <td>Assistant Planner</td>\n",
       "      <td>CYBERSPROUT PTE. LTD.</td>\n",
       "      <td>Information Technology, Others</td>\n",
       "      <td>Executive</td>\n",
       "    </tr>\n",
       "    <tr>\n",
       "      <th>13</th>\n",
       "      <td>Engineer, Software</td>\n",
       "      <td>COMPANY UNDISCLOSED</td>\n",
       "      <td>Engineering</td>\n",
       "      <td>Executive</td>\n",
       "    </tr>\n",
       "    <tr>\n",
       "      <th>14</th>\n",
       "      <td>Business Relationship Manager</td>\n",
       "      <td>ALGOMERCHANT PTE. LTD.</td>\n",
       "      <td>Banking and Finance, Education and Training, I...</td>\n",
       "      <td>Executive</td>\n",
       "    </tr>\n",
       "    <tr>\n",
       "      <th>15</th>\n",
       "      <td>Data Analyst</td>\n",
       "      <td>SANDBOX CONSULTING PTE. LTD.</td>\n",
       "      <td>Information Technology</td>\n",
       "      <td>Professional</td>\n",
       "    </tr>\n",
       "    <tr>\n",
       "      <th>16</th>\n",
       "      <td>Senior Product Manager (Analytics, AI Products...</td>\n",
       "      <td>COMPANY UNDISCLOSED</td>\n",
       "      <td>Information Technology</td>\n",
       "      <td>Middle Management</td>\n",
       "    </tr>\n",
       "    <tr>\n",
       "      <th>17</th>\n",
       "      <td>Data Scientist</td>\n",
       "      <td>COMPANY UNDISCLOSED</td>\n",
       "      <td>Information Technology</td>\n",
       "      <td>Executive</td>\n",
       "    </tr>\n",
       "    <tr>\n",
       "      <th>18</th>\n",
       "      <td>Software Consultant</td>\n",
       "      <td>COMPANY UNDISCLOSED</td>\n",
       "      <td>Information Technology</td>\n",
       "      <td>Senior Executive</td>\n",
       "    </tr>\n",
       "    <tr>\n",
       "      <th>19</th>\n",
       "      <td>Executive, Digital Analytics</td>\n",
       "      <td>CARAT MEDIA SERVICES SINGAPORE PTE LTD</td>\n",
       "      <td>Advertising / Media</td>\n",
       "      <td>Executive</td>\n",
       "    </tr>\n",
       "    <tr>\n",
       "      <th>20</th>\n",
       "      <td>Manager / Senior Manager, Digital Analytics</td>\n",
       "      <td>CARAT MEDIA SERVICES SINGAPORE PTE LTD</td>\n",
       "      <td>Advertising / Media</td>\n",
       "      <td>Manager</td>\n",
       "    </tr>\n",
       "    <tr>\n",
       "      <th>21</th>\n",
       "      <td>Head, HR Analytics &amp; Workforce Planning</td>\n",
       "      <td>KERRY CONSULTING PTE. LTD.</td>\n",
       "      <td>Human Resources</td>\n",
       "      <td>Manager</td>\n",
       "    </tr>\n",
       "    <tr>\n",
       "      <th>22</th>\n",
       "      <td>SVP / VP, Lead Data Scientist, Group Consumer ...</td>\n",
       "      <td>DBS BANK LTD.</td>\n",
       "      <td>Banking and Finance</td>\n",
       "      <td>Senior Management</td>\n",
       "    </tr>\n",
       "    <tr>\n",
       "      <th>23</th>\n",
       "      <td>AVP / Senior Associate, Lead Development Engin...</td>\n",
       "      <td>DBS BANK LTD.</td>\n",
       "      <td>Banking and Finance</td>\n",
       "      <td>Manager</td>\n",
       "    </tr>\n",
       "    <tr>\n",
       "      <th>24</th>\n",
       "      <td>VP / AVP, Development Engineer, Group Consumer...</td>\n",
       "      <td>DBS BANK LTD.</td>\n",
       "      <td>Banking and Finance</td>\n",
       "      <td>Manager</td>\n",
       "    </tr>\n",
       "    <tr>\n",
       "      <th>25</th>\n",
       "      <td>Lecturer - IT Applications Development</td>\n",
       "      <td>INSTITUTE OF TECHNICAL EDUCATION</td>\n",
       "      <td>Education and Training, Public / Civil Service</td>\n",
       "      <td>Executive</td>\n",
       "    </tr>\n",
       "    <tr>\n",
       "      <th>26</th>\n",
       "      <td>Data Engineer</td>\n",
       "      <td>PERX TECHNOLOGIES PTE. LTD.</td>\n",
       "      <td>Information Technology</td>\n",
       "      <td>Executive</td>\n",
       "    </tr>\n",
       "    <tr>\n",
       "      <th>27</th>\n",
       "      <td>AVP / Senior Associate, Data Engineer, IBG Dig...</td>\n",
       "      <td>DBS BANK LTD.</td>\n",
       "      <td>Banking and Finance</td>\n",
       "      <td>Manager</td>\n",
       "    </tr>\n",
       "    <tr>\n",
       "      <th>28</th>\n",
       "      <td>AVP / Senior Associate, Data Analyst, Analytic...</td>\n",
       "      <td>DBS BANK LTD.</td>\n",
       "      <td>Banking and Finance</td>\n",
       "      <td>Manager</td>\n",
       "    </tr>\n",
       "    <tr>\n",
       "      <th>29</th>\n",
       "      <td>VP / AVP, Data Analyst, Middle Office Technolo...</td>\n",
       "      <td>DBS BANK LTD.</td>\n",
       "      <td>Banking and Finance</td>\n",
       "      <td>Manager</td>\n",
       "    </tr>\n",
       "    <tr>\n",
       "      <th>...</th>\n",
       "      <td>...</td>\n",
       "      <td>...</td>\n",
       "      <td>...</td>\n",
       "      <td>...</td>\n",
       "    </tr>\n",
       "    <tr>\n",
       "      <th>883</th>\n",
       "      <td>Android Developer</td>\n",
       "      <td>NTUC ENTERPRISE CO-OPERATIVE LTD</td>\n",
       "      <td>Information Technology</td>\n",
       "      <td>Professional</td>\n",
       "    </tr>\n",
       "    <tr>\n",
       "      <th>884</th>\n",
       "      <td>Technical Lead (Android)</td>\n",
       "      <td>NTUC ENTERPRISE CO-OPERATIVE LTD</td>\n",
       "      <td>Information Technology</td>\n",
       "      <td>Manager</td>\n",
       "    </tr>\n",
       "    <tr>\n",
       "      <th>885</th>\n",
       "      <td>Principal Engineer (iOS)</td>\n",
       "      <td>NTUC ENTERPRISE NEXUS CO-OPERATIVE LIMITED</td>\n",
       "      <td>Information Technology</td>\n",
       "      <td>Manager</td>\n",
       "    </tr>\n",
       "    <tr>\n",
       "      <th>886</th>\n",
       "      <td>Technical Lead (iOS)</td>\n",
       "      <td>NTUC ENTERPRISE NEXUS CO-OPERATIVE LIMITED</td>\n",
       "      <td>Information Technology</td>\n",
       "      <td>Manager</td>\n",
       "    </tr>\n",
       "    <tr>\n",
       "      <th>887</th>\n",
       "      <td>Technical Lead (iOS)</td>\n",
       "      <td>NTUC ENTERPRISE NEXUS CO-OPERATIVE LIMITED</td>\n",
       "      <td>Information Technology</td>\n",
       "      <td>Manager</td>\n",
       "    </tr>\n",
       "    <tr>\n",
       "      <th>888</th>\n",
       "      <td>Senior iOS Developer</td>\n",
       "      <td>NTUC ENTERPRISE NEXUS CO-OPERATIVE LIMITED</td>\n",
       "      <td>Information Technology</td>\n",
       "      <td>Professional</td>\n",
       "    </tr>\n",
       "    <tr>\n",
       "      <th>889</th>\n",
       "      <td>Senior iOS Developer</td>\n",
       "      <td>NTUC ENTERPRISE NEXUS CO-OPERATIVE LIMITED</td>\n",
       "      <td>Information Technology</td>\n",
       "      <td>Professional</td>\n",
       "    </tr>\n",
       "    <tr>\n",
       "      <th>890</th>\n",
       "      <td>iOS Developer</td>\n",
       "      <td>NTUC ENTERPRISE NEXUS CO-OPERATIVE LIMITED</td>\n",
       "      <td>Information Technology</td>\n",
       "      <td>Professional</td>\n",
       "    </tr>\n",
       "    <tr>\n",
       "      <th>891</th>\n",
       "      <td>Principal Engineer (Frontend)</td>\n",
       "      <td>NTUC ENTERPRISE NEXUS CO-OPERATIVE LIMITED</td>\n",
       "      <td>Information Technology</td>\n",
       "      <td>Manager</td>\n",
       "    </tr>\n",
       "    <tr>\n",
       "      <th>892</th>\n",
       "      <td>Technical Lead (Frontend)</td>\n",
       "      <td>NTUC ENTERPRISE NEXUS CO-OPERATIVE LIMITED</td>\n",
       "      <td>Information Technology</td>\n",
       "      <td>Manager</td>\n",
       "    </tr>\n",
       "    <tr>\n",
       "      <th>893</th>\n",
       "      <td>Senior Frontend Engineer</td>\n",
       "      <td>NTUC ENTERPRISE NEXUS CO-OPERATIVE LIMITED</td>\n",
       "      <td>Information Technology</td>\n",
       "      <td>Professional</td>\n",
       "    </tr>\n",
       "    <tr>\n",
       "      <th>894</th>\n",
       "      <td>Senior Frontend Engineer</td>\n",
       "      <td>NTUC ENTERPRISE NEXUS CO-OPERATIVE LIMITED</td>\n",
       "      <td>Information Technology</td>\n",
       "      <td>Professional</td>\n",
       "    </tr>\n",
       "    <tr>\n",
       "      <th>895</th>\n",
       "      <td>Frontend Engineer</td>\n",
       "      <td>NTUC ENTERPRISE NEXUS CO-OPERATIVE LIMITED</td>\n",
       "      <td>Information Technology</td>\n",
       "      <td>Professional</td>\n",
       "    </tr>\n",
       "    <tr>\n",
       "      <th>896</th>\n",
       "      <td>Principal Engineer (Backend)</td>\n",
       "      <td>NTUC ENTERPRISE NEXUS CO-OPERATIVE LIMITED</td>\n",
       "      <td>Information Technology</td>\n",
       "      <td>Manager</td>\n",
       "    </tr>\n",
       "    <tr>\n",
       "      <th>897</th>\n",
       "      <td>Principal Engineer (Backend)</td>\n",
       "      <td>NTUC ENTERPRISE NEXUS CO-OPERATIVE LIMITED</td>\n",
       "      <td>Information Technology</td>\n",
       "      <td>Manager</td>\n",
       "    </tr>\n",
       "    <tr>\n",
       "      <th>898</th>\n",
       "      <td>Technical Lead (Backend)</td>\n",
       "      <td>NTUC ENTERPRISE NEXUS CO-OPERATIVE LIMITED</td>\n",
       "      <td>Information Technology</td>\n",
       "      <td>Manager</td>\n",
       "    </tr>\n",
       "    <tr>\n",
       "      <th>899</th>\n",
       "      <td>Senior Backend Engineer</td>\n",
       "      <td>NTUC ENTERPRISE NEXUS CO-OPERATIVE LIMITED</td>\n",
       "      <td>Information Technology</td>\n",
       "      <td>Professional</td>\n",
       "    </tr>\n",
       "    <tr>\n",
       "      <th>900</th>\n",
       "      <td>Senior Backend Engineer</td>\n",
       "      <td>NTUC ENTERPRISE NEXUS CO-OPERATIVE LIMITED</td>\n",
       "      <td>Information Technology</td>\n",
       "      <td>Professional</td>\n",
       "    </tr>\n",
       "    <tr>\n",
       "      <th>901</th>\n",
       "      <td>Backend Engineer</td>\n",
       "      <td>NTUC ENTERPRISE NEXUS CO-OPERATIVE LIMITED</td>\n",
       "      <td>Information Technology</td>\n",
       "      <td>Professional</td>\n",
       "    </tr>\n",
       "    <tr>\n",
       "      <th>902</th>\n",
       "      <td>Principal Engineer (Android)</td>\n",
       "      <td>NTUC ENTERPRISE NEXUS CO-OPERATIVE LIMITED</td>\n",
       "      <td>Information Technology</td>\n",
       "      <td>Professional</td>\n",
       "    </tr>\n",
       "    <tr>\n",
       "      <th>903</th>\n",
       "      <td>Senior Android Developer</td>\n",
       "      <td>NTUC ENTERPRISE NEXUS CO-OPERATIVE LIMITED</td>\n",
       "      <td>Information Technology</td>\n",
       "      <td>Professional</td>\n",
       "    </tr>\n",
       "    <tr>\n",
       "      <th>904</th>\n",
       "      <td>Senior Android Developer</td>\n",
       "      <td>NTUC ENTERPRISE NEXUS CO-OPERATIVE LIMITED</td>\n",
       "      <td>Information Technology</td>\n",
       "      <td>Professional</td>\n",
       "    </tr>\n",
       "    <tr>\n",
       "      <th>905</th>\n",
       "      <td>Android Developer</td>\n",
       "      <td>NTUC ENTERPRISE NEXUS CO-OPERATIVE LIMITED</td>\n",
       "      <td>Information Technology</td>\n",
       "      <td>Professional</td>\n",
       "    </tr>\n",
       "    <tr>\n",
       "      <th>906</th>\n",
       "      <td>Technical Lead (Android)</td>\n",
       "      <td>NTUC ENTERPRISE NEXUS CO-OPERATIVE LIMITED</td>\n",
       "      <td>Information Technology</td>\n",
       "      <td>Manager</td>\n",
       "    </tr>\n",
       "    <tr>\n",
       "      <th>907</th>\n",
       "      <td>Manager</td>\n",
       "      <td>AASHIQ ALI RESTAURANT PTE. LTD.</td>\n",
       "      <td>Others</td>\n",
       "      <td>Manager</td>\n",
       "    </tr>\n",
       "    <tr>\n",
       "      <th>908</th>\n",
       "      <td>senior big data engineer</td>\n",
       "      <td>SCHELLDEN GLOBAL PTE. LTD.</td>\n",
       "      <td>Information Technology</td>\n",
       "      <td>Senior Management</td>\n",
       "    </tr>\n",
       "    <tr>\n",
       "      <th>909</th>\n",
       "      <td>Vice President, Portfolio &amp; Regulatory Managem...</td>\n",
       "      <td>COMPANY UNDISCLOSED</td>\n",
       "      <td>Banking and Finance</td>\n",
       "      <td>Senior Management</td>\n",
       "    </tr>\n",
       "    <tr>\n",
       "      <th>910</th>\n",
       "      <td>Vice President, Portfolio &amp; Regulatory Managem...</td>\n",
       "      <td>COMPANY UNDISCLOSED</td>\n",
       "      <td>Banking and Finance</td>\n",
       "      <td>Senior Management</td>\n",
       "    </tr>\n",
       "    <tr>\n",
       "      <th>911</th>\n",
       "      <td>SAS Developers and SAS Admin</td>\n",
       "      <td>COMPANY UNDISCLOSED</td>\n",
       "      <td>Information Technology</td>\n",
       "      <td>Professional</td>\n",
       "    </tr>\n",
       "    <tr>\n",
       "      <th>912</th>\n",
       "      <td>Senior Executive, Data Management</td>\n",
       "      <td>SINGAPORE LAND AUTHORITY</td>\n",
       "      <td>Information Technology, Public / Civil Service</td>\n",
       "      <td>Executive</td>\n",
       "    </tr>\n",
       "  </tbody>\n",
       "</table>\n",
       "<p>913 rows × 4 columns</p>\n",
       "</div>"
      ],
      "text/plain": [
       "                                                 Title  \\\n",
       "0           Delivery Lead – Singapore (PACE Analytics)   \n",
       "1    VP / AVP, Machine Learning Engineer, Group Con...   \n",
       "2    VP / AVP, Senior Data Engineer, Group Consumer...   \n",
       "3    VP / AVP, Sr. Frontend Developer, Group Consum...   \n",
       "4                  Research Scientist - Energy Systems   \n",
       "5                       International Business Analyst   \n",
       "6    IT Security Analyst (VPN, Firewall, Proxy, Dat...   \n",
       "7         Senior Manager / Manager / Senior Consultant   \n",
       "8         Senior Manager / Manager / Senior Consultant   \n",
       "9                      Marketing Operations Specialist   \n",
       "10                              Senior Recruiter, APAC   \n",
       "11                                        Web Designer   \n",
       "12                                   Assistant Planner   \n",
       "13                                  Engineer, Software   \n",
       "14                       Business Relationship Manager   \n",
       "15                                        Data Analyst   \n",
       "16   Senior Product Manager (Analytics, AI Products...   \n",
       "17                                      Data Scientist   \n",
       "18                                 Software Consultant   \n",
       "19                        Executive, Digital Analytics   \n",
       "20         Manager / Senior Manager, Digital Analytics   \n",
       "21             Head, HR Analytics & Workforce Planning   \n",
       "22   SVP / VP, Lead Data Scientist, Group Consumer ...   \n",
       "23   AVP / Senior Associate, Lead Development Engin...   \n",
       "24   VP / AVP, Development Engineer, Group Consumer...   \n",
       "25              Lecturer - IT Applications Development   \n",
       "26                                       Data Engineer   \n",
       "27   AVP / Senior Associate, Data Engineer, IBG Dig...   \n",
       "28   AVP / Senior Associate, Data Analyst, Analytic...   \n",
       "29   VP / AVP, Data Analyst, Middle Office Technolo...   \n",
       "..                                                 ...   \n",
       "883                                  Android Developer   \n",
       "884                           Technical Lead (Android)   \n",
       "885                           Principal Engineer (iOS)   \n",
       "886                               Technical Lead (iOS)   \n",
       "887                               Technical Lead (iOS)   \n",
       "888                               Senior iOS Developer   \n",
       "889                               Senior iOS Developer   \n",
       "890                                      iOS Developer   \n",
       "891                      Principal Engineer (Frontend)   \n",
       "892                          Technical Lead (Frontend)   \n",
       "893                           Senior Frontend Engineer   \n",
       "894                           Senior Frontend Engineer   \n",
       "895                                  Frontend Engineer   \n",
       "896                       Principal Engineer (Backend)   \n",
       "897                       Principal Engineer (Backend)   \n",
       "898                           Technical Lead (Backend)   \n",
       "899                            Senior Backend Engineer   \n",
       "900                            Senior Backend Engineer   \n",
       "901                                   Backend Engineer   \n",
       "902                       Principal Engineer (Android)   \n",
       "903                           Senior Android Developer   \n",
       "904                           Senior Android Developer   \n",
       "905                                  Android Developer   \n",
       "906                           Technical Lead (Android)   \n",
       "907                                            Manager   \n",
       "908                           senior big data engineer   \n",
       "909  Vice President, Portfolio & Regulatory Managem...   \n",
       "910  Vice President, Portfolio & Regulatory Managem...   \n",
       "911                       SAS Developers and SAS Admin   \n",
       "912                  Senior Executive, Data Management   \n",
       "\n",
       "                                               Company  \\\n",
       "0               RIO TINTO SINGAPORE HOLDINGS PTE. LTD.   \n",
       "1                                        DBS BANK LTD.   \n",
       "2                                        DBS BANK LTD.   \n",
       "3                                        DBS BANK LTD.   \n",
       "4                         GLOBESOFT SERVICES PTE. LTD.   \n",
       "5    SCHNEIDER ELECTRIC IT LOGISTICS ASIA PACIFIC P...   \n",
       "6            TECHCOM SOLUTIONS & CONSULTANCY PTE. LTD.   \n",
       "7    DELOITTE & TOUCHE ENTERPRISE RISK SERVICES PTE...   \n",
       "8    DELOITTE & TOUCHE ENTERPRISE RISK SERVICES PTE...   \n",
       "9                           TALEND SINGAPORE PTE. LTD.   \n",
       "10                          TALEND SINGAPORE PTE. LTD.   \n",
       "11                                   GLOBIBO PTE. LTD.   \n",
       "12                               CYBERSPROUT PTE. LTD.   \n",
       "13                                 COMPANY UNDISCLOSED   \n",
       "14                              ALGOMERCHANT PTE. LTD.   \n",
       "15                        SANDBOX CONSULTING PTE. LTD.   \n",
       "16                                 COMPANY UNDISCLOSED   \n",
       "17                                 COMPANY UNDISCLOSED   \n",
       "18                                 COMPANY UNDISCLOSED   \n",
       "19              CARAT MEDIA SERVICES SINGAPORE PTE LTD   \n",
       "20              CARAT MEDIA SERVICES SINGAPORE PTE LTD   \n",
       "21                          KERRY CONSULTING PTE. LTD.   \n",
       "22                                       DBS BANK LTD.   \n",
       "23                                       DBS BANK LTD.   \n",
       "24                                       DBS BANK LTD.   \n",
       "25                    INSTITUTE OF TECHNICAL EDUCATION   \n",
       "26                         PERX TECHNOLOGIES PTE. LTD.   \n",
       "27                                       DBS BANK LTD.   \n",
       "28                                       DBS BANK LTD.   \n",
       "29                                       DBS BANK LTD.   \n",
       "..                                                 ...   \n",
       "883                   NTUC ENTERPRISE CO-OPERATIVE LTD   \n",
       "884                   NTUC ENTERPRISE CO-OPERATIVE LTD   \n",
       "885         NTUC ENTERPRISE NEXUS CO-OPERATIVE LIMITED   \n",
       "886         NTUC ENTERPRISE NEXUS CO-OPERATIVE LIMITED   \n",
       "887         NTUC ENTERPRISE NEXUS CO-OPERATIVE LIMITED   \n",
       "888         NTUC ENTERPRISE NEXUS CO-OPERATIVE LIMITED   \n",
       "889         NTUC ENTERPRISE NEXUS CO-OPERATIVE LIMITED   \n",
       "890         NTUC ENTERPRISE NEXUS CO-OPERATIVE LIMITED   \n",
       "891         NTUC ENTERPRISE NEXUS CO-OPERATIVE LIMITED   \n",
       "892         NTUC ENTERPRISE NEXUS CO-OPERATIVE LIMITED   \n",
       "893         NTUC ENTERPRISE NEXUS CO-OPERATIVE LIMITED   \n",
       "894         NTUC ENTERPRISE NEXUS CO-OPERATIVE LIMITED   \n",
       "895         NTUC ENTERPRISE NEXUS CO-OPERATIVE LIMITED   \n",
       "896         NTUC ENTERPRISE NEXUS CO-OPERATIVE LIMITED   \n",
       "897         NTUC ENTERPRISE NEXUS CO-OPERATIVE LIMITED   \n",
       "898         NTUC ENTERPRISE NEXUS CO-OPERATIVE LIMITED   \n",
       "899         NTUC ENTERPRISE NEXUS CO-OPERATIVE LIMITED   \n",
       "900         NTUC ENTERPRISE NEXUS CO-OPERATIVE LIMITED   \n",
       "901         NTUC ENTERPRISE NEXUS CO-OPERATIVE LIMITED   \n",
       "902         NTUC ENTERPRISE NEXUS CO-OPERATIVE LIMITED   \n",
       "903         NTUC ENTERPRISE NEXUS CO-OPERATIVE LIMITED   \n",
       "904         NTUC ENTERPRISE NEXUS CO-OPERATIVE LIMITED   \n",
       "905         NTUC ENTERPRISE NEXUS CO-OPERATIVE LIMITED   \n",
       "906         NTUC ENTERPRISE NEXUS CO-OPERATIVE LIMITED   \n",
       "907                    AASHIQ ALI RESTAURANT PTE. LTD.   \n",
       "908                         SCHELLDEN GLOBAL PTE. LTD.   \n",
       "909                                COMPANY UNDISCLOSED   \n",
       "910                                COMPANY UNDISCLOSED   \n",
       "911                                COMPANY UNDISCLOSED   \n",
       "912                           SINGAPORE LAND AUTHORITY   \n",
       "\n",
       "                                              Industry              Level  \n",
       "0                               Information Technology            Manager  \n",
       "1                                  Banking and Finance  Middle Management  \n",
       "2                                  Banking and Finance  Middle Management  \n",
       "3                                  Banking and Finance  Middle Management  \n",
       "4                          Sciences / Laboratory / R&D       Professional  \n",
       "5                                           Consulting   Senior Executive  \n",
       "6          Banking and Finance, Information Technology  Middle Management  \n",
       "7                                      Risk Management            Manager  \n",
       "8                                      Risk Management            Manager  \n",
       "9                         Marketing / Public Relations          Executive  \n",
       "10                                     Human Resources   Senior Executive  \n",
       "11    Design, Information Technology, Travel / Tourism  Fresh/entry level  \n",
       "12                      Information Technology, Others          Executive  \n",
       "13                                         Engineering          Executive  \n",
       "14   Banking and Finance, Education and Training, I...          Executive  \n",
       "15                              Information Technology       Professional  \n",
       "16                              Information Technology  Middle Management  \n",
       "17                              Information Technology          Executive  \n",
       "18                              Information Technology   Senior Executive  \n",
       "19                                 Advertising / Media          Executive  \n",
       "20                                 Advertising / Media            Manager  \n",
       "21                                     Human Resources            Manager  \n",
       "22                                 Banking and Finance  Senior Management  \n",
       "23                                 Banking and Finance            Manager  \n",
       "24                                 Banking and Finance            Manager  \n",
       "25      Education and Training, Public / Civil Service          Executive  \n",
       "26                              Information Technology          Executive  \n",
       "27                                 Banking and Finance            Manager  \n",
       "28                                 Banking and Finance            Manager  \n",
       "29                                 Banking and Finance            Manager  \n",
       "..                                                 ...                ...  \n",
       "883                             Information Technology       Professional  \n",
       "884                             Information Technology            Manager  \n",
       "885                             Information Technology            Manager  \n",
       "886                             Information Technology            Manager  \n",
       "887                             Information Technology            Manager  \n",
       "888                             Information Technology       Professional  \n",
       "889                             Information Technology       Professional  \n",
       "890                             Information Technology       Professional  \n",
       "891                             Information Technology            Manager  \n",
       "892                             Information Technology            Manager  \n",
       "893                             Information Technology       Professional  \n",
       "894                             Information Technology       Professional  \n",
       "895                             Information Technology       Professional  \n",
       "896                             Information Technology            Manager  \n",
       "897                             Information Technology            Manager  \n",
       "898                             Information Technology            Manager  \n",
       "899                             Information Technology       Professional  \n",
       "900                             Information Technology       Professional  \n",
       "901                             Information Technology       Professional  \n",
       "902                             Information Technology       Professional  \n",
       "903                             Information Technology       Professional  \n",
       "904                             Information Technology       Professional  \n",
       "905                             Information Technology       Professional  \n",
       "906                             Information Technology            Manager  \n",
       "907                                             Others            Manager  \n",
       "908                             Information Technology  Senior Management  \n",
       "909                                Banking and Finance  Senior Management  \n",
       "910                                Banking and Finance  Senior Management  \n",
       "911                             Information Technology       Professional  \n",
       "912     Information Technology, Public / Civil Service          Executive  \n",
       "\n",
       "[913 rows x 4 columns]"
      ]
     },
     "execution_count": 42,
     "metadata": {},
     "output_type": "execute_result"
    }
   ],
   "source": [
    "analytics[cols]"
   ]
  },
  {
   "cell_type": "markdown",
   "metadata": {},
   "source": [
    "### Build a Random Forest Regressor"
   ]
  },
  {
   "cell_type": "code",
   "execution_count": 43,
   "metadata": {},
   "outputs": [],
   "source": [
    "X= analytics[cols]\n",
    "X = pd.get_dummies(X, drop_first=True)"
   ]
  },
  {
   "cell_type": "code",
   "execution_count": 44,
   "metadata": {},
   "outputs": [
    {
     "data": {
      "text/plain": [
       "(913, 1107)"
      ]
     },
     "execution_count": 44,
     "metadata": {},
     "output_type": "execute_result"
    }
   ],
   "source": [
    "X.shape"
   ]
  },
  {
   "cell_type": "code",
   "execution_count": 45,
   "metadata": {},
   "outputs": [],
   "source": [
    "y = analytics['Monthly_expected_salary']"
   ]
  },
  {
   "cell_type": "code",
   "execution_count": 46,
   "metadata": {},
   "outputs": [],
   "source": [
    "from sklearn.model_selection import train_test_split\n",
    "X_train, X_test, y_train, y_test = train_test_split(X, y, test_size = 0.2, random_state = 42)"
   ]
  },
  {
   "cell_type": "code",
   "execution_count": 47,
   "metadata": {},
   "outputs": [
    {
     "name": "stderr",
     "output_type": "stream",
     "text": [
      "C:\\Users\\Zach\\Anaconda3\\lib\\site-packages\\sklearn\\ensemble\\weight_boosting.py:29: DeprecationWarning: numpy.core.umath_tests is an internal NumPy module and should not be imported. It will be removed in a future NumPy release.\n",
      "  from numpy.core.umath_tests import inner1d\n"
     ]
    }
   ],
   "source": [
    "from sklearn.ensemble import RandomForestRegressor"
   ]
  },
  {
   "cell_type": "code",
   "execution_count": 48,
   "metadata": {},
   "outputs": [
    {
     "data": {
      "text/plain": [
       "RandomForestRegressor(bootstrap=True, criterion='mse', max_depth=None,\n",
       "           max_features='auto', max_leaf_nodes=None,\n",
       "           min_impurity_decrease=0.0, min_impurity_split=None,\n",
       "           min_samples_leaf=1, min_samples_split=2,\n",
       "           min_weight_fraction_leaf=0.0, n_estimators=100, n_jobs=1,\n",
       "           oob_score=True, random_state=42, verbose=0, warm_start=False)"
      ]
     },
     "execution_count": 48,
     "metadata": {},
     "output_type": "execute_result"
    }
   ],
   "source": [
    "regressor = RandomForestRegressor(n_estimators = 100, oob_score=True,random_state=42 )\n",
    "regressor.fit(X_train, y_train)"
   ]
  },
  {
   "cell_type": "code",
   "execution_count": 49,
   "metadata": {},
   "outputs": [
    {
     "name": "stdout",
     "output_type": "stream",
     "text": [
      "OOB score: 0.27083705984279716\n"
     ]
    }
   ],
   "source": [
    "print('OOB score:',regressor.oob_score_)"
   ]
  },
  {
   "cell_type": "code",
   "execution_count": 50,
   "metadata": {},
   "outputs": [],
   "source": [
    "y_pred = regressor.predict(X_test)"
   ]
  },
  {
   "cell_type": "code",
   "execution_count": 51,
   "metadata": {},
   "outputs": [
    {
     "name": "stdout",
     "output_type": "stream",
     "text": [
      "R2: 0.344977876625296\n",
      "Mean Absolute Error: 1925.303190215977\n",
      "Mean Squared Error: 7771169.560550578\n",
      "Root Mean Squared Error: 2787.6817538145524\n"
     ]
    }
   ],
   "source": [
    "from sklearn.metrics import mean_absolute_error,mean_squared_error,r2_score\n",
    "print('R2:', r2_score(y_test, y_pred))\n",
    "print('Mean Absolute Error:', mean_absolute_error(y_test, y_pred))\n",
    "print('Mean Squared Error:', mean_squared_error(y_test, y_pred))\n",
    "print('Root Mean Squared Error:', np.sqrt(mean_squared_error(y_test, y_pred)))"
   ]
  },
  {
   "cell_type": "code",
   "execution_count": 52,
   "metadata": {},
   "outputs": [],
   "source": [
    "### 0.4 R^2 : Quite bad looks for ways to improve it later. Maybe using gridsearch ?"
   ]
  },
  {
   "cell_type": "markdown",
   "metadata": {},
   "source": [
    "### Using classification instead with NLP"
   ]
  },
  {
   "cell_type": "code",
   "execution_count": 53,
   "metadata": {},
   "outputs": [
    {
     "name": "stdout",
     "output_type": "stream",
     "text": [
      "[nltk_data] Downloading package stopwords to\n",
      "[nltk_data]     C:\\Users\\Zach\\AppData\\Roaming\\nltk_data...\n",
      "[nltk_data]   Package stopwords is already up-to-date!\n"
     ]
    }
   ],
   "source": [
    "import re\n",
    "import nltk\n",
    "nltk.download('stopwords')\n",
    "from nltk.corpus import stopwords\n",
    "from nltk.stem.porter import PorterStemmer"
   ]
  },
  {
   "cell_type": "code",
   "execution_count": 54,
   "metadata": {},
   "outputs": [],
   "source": [
    "#above median salary\n",
    "analytics['above_med_salary'] = (analytics[\"Monthly_expected_salary\"] > 7000).apply(lambda x:1 if x == True else 0)"
   ]
  },
  {
   "cell_type": "code",
   "execution_count": 55,
   "metadata": {
    "scrolled": true
   },
   "outputs": [
    {
     "data": {
      "text/html": [
       "<div>\n",
       "<style scoped>\n",
       "    .dataframe tbody tr th:only-of-type {\n",
       "        vertical-align: middle;\n",
       "    }\n",
       "\n",
       "    .dataframe tbody tr th {\n",
       "        vertical-align: top;\n",
       "    }\n",
       "\n",
       "    .dataframe thead th {\n",
       "        text-align: right;\n",
       "    }\n",
       "</style>\n",
       "<table border=\"1\" class=\"dataframe\">\n",
       "  <thead>\n",
       "    <tr style=\"text-align: right;\">\n",
       "      <th></th>\n",
       "      <th>Title</th>\n",
       "      <th>Company</th>\n",
       "      <th>Location</th>\n",
       "      <th>Monthly/Annual</th>\n",
       "      <th>Seniority</th>\n",
       "      <th>JD</th>\n",
       "      <th>Req</th>\n",
       "      <th>Industry</th>\n",
       "      <th>min_salary</th>\n",
       "      <th>max_salary</th>\n",
       "      <th>Monthly_expected_salary</th>\n",
       "      <th>Level</th>\n",
       "      <th>Level_num</th>\n",
       "      <th>above_med_salary</th>\n",
       "    </tr>\n",
       "  </thead>\n",
       "  <tbody>\n",
       "    <tr>\n",
       "      <th>175</th>\n",
       "      <td>Cloud Deployment and Migration Engineer</td>\n",
       "      <td>CLOUD COMRADE PTE. LTD.</td>\n",
       "      <td>GSM BUILDING, 141 MIDDLE ROAD 188976</td>\n",
       "      <td>Monthly</td>\n",
       "      <td>Executive, Non-executive</td>\n",
       "      <td>Cloud adoption isn’t just about the migration....</td>\n",
       "      <td>requirements candidates with existing aws or g...</td>\n",
       "      <td>Information Technology</td>\n",
       "      <td>4000.0</td>\n",
       "      <td>8000.0</td>\n",
       "      <td>6000.0</td>\n",
       "      <td>Executive</td>\n",
       "      <td>3</td>\n",
       "      <td>0</td>\n",
       "    </tr>\n",
       "    <tr>\n",
       "      <th>422</th>\n",
       "      <td>Regional Talent Consultant, Asia Pacific</td>\n",
       "      <td>ROCHE DIAGNOSTICS ASIA PACIFIC PTE LTD</td>\n",
       "      <td>APERIA, 8 KALLANG AVENUE 339509</td>\n",
       "      <td>Monthly</td>\n",
       "      <td>Professional</td>\n",
       "      <td>Who we are At Roche, 94,000 people across 100 ...</td>\n",
       "      <td>requirements who you are you are someone who i...</td>\n",
       "      <td>Healthcare / Pharmaceutical</td>\n",
       "      <td>4000.0</td>\n",
       "      <td>8500.0</td>\n",
       "      <td>6250.0</td>\n",
       "      <td>Professional</td>\n",
       "      <td>5</td>\n",
       "      <td>0</td>\n",
       "    </tr>\n",
       "    <tr>\n",
       "      <th>757</th>\n",
       "      <td>Influencer Marketing Specialist</td>\n",
       "      <td>ZIMPLISTIC PRIVATE LIMITED</td>\n",
       "      <td>THE CURIE, 83 SCIENCE PARK DRIVE 118258</td>\n",
       "      <td>Monthly</td>\n",
       "      <td>Executive, Senior Executive</td>\n",
       "      <td>About the role: Rotimatic is looking for an ex...</td>\n",
       "      <td>requirements key requirements: 2-5+ years at a...</td>\n",
       "      <td>Marketing / Public Relations</td>\n",
       "      <td>4000.0</td>\n",
       "      <td>7000.0</td>\n",
       "      <td>5500.0</td>\n",
       "      <td>Executive</td>\n",
       "      <td>3</td>\n",
       "      <td>0</td>\n",
       "    </tr>\n",
       "    <tr>\n",
       "      <th>145</th>\n",
       "      <td>APAC Strategy Development Assistant Manager</td>\n",
       "      <td>UPS ASIA GROUP PTE. LTD.</td>\n",
       "      <td>UPS HOUSE, 22 CHANGI SOUTH AVENUE 2 486064</td>\n",
       "      <td>Monthly</td>\n",
       "      <td>Manager</td>\n",
       "      <td>Summary The incumbent will be a member of the ...</td>\n",
       "      <td>requirements requirements possess a bachelor’s...</td>\n",
       "      <td>Accounting / Auditing / Taxation, Engineering,...</td>\n",
       "      <td>5256.0</td>\n",
       "      <td>7008.0</td>\n",
       "      <td>6132.0</td>\n",
       "      <td>Manager</td>\n",
       "      <td>6</td>\n",
       "      <td>0</td>\n",
       "    </tr>\n",
       "    <tr>\n",
       "      <th>850</th>\n",
       "      <td>Data Engineer</td>\n",
       "      <td>PROPERTYGURU PTE. LTD.</td>\n",
       "      <td>TRIPLEONE SOMERSET, 111 SOMERSET ROAD 238164</td>\n",
       "      <td>Monthly</td>\n",
       "      <td>Professional, Executive</td>\n",
       "      <td>Our websites attract more than 100 million mon...</td>\n",
       "      <td>requirements bachelor’s degree in it or releva...</td>\n",
       "      <td>Engineering, Information Technology</td>\n",
       "      <td>5000.0</td>\n",
       "      <td>7000.0</td>\n",
       "      <td>6000.0</td>\n",
       "      <td>Professional</td>\n",
       "      <td>5</td>\n",
       "      <td>0</td>\n",
       "    </tr>\n",
       "    <tr>\n",
       "      <th>496</th>\n",
       "      <td>Visual Designer</td>\n",
       "      <td>ACRONIS ASIA RESEARCH AND DEVELOPMENT PTE. LTD.</td>\n",
       "      <td>SUNTEC TOWER THREE, 8 TEMASEK BOULEVARD 038988</td>\n",
       "      <td>Monthly</td>\n",
       "      <td>Executive</td>\n",
       "      <td>We are currently looking for a VISUAL DESIGNER...</td>\n",
       "      <td>requirements you will be awesome at this role ...</td>\n",
       "      <td>Design</td>\n",
       "      <td>4000.0</td>\n",
       "      <td>6000.0</td>\n",
       "      <td>5000.0</td>\n",
       "      <td>Executive</td>\n",
       "      <td>3</td>\n",
       "      <td>0</td>\n",
       "    </tr>\n",
       "    <tr>\n",
       "      <th>823</th>\n",
       "      <td>Lead UI / UX Designer</td>\n",
       "      <td>FUNDNEL PTE. LTD.</td>\n",
       "      <td>NANKIN ROW, 3 PICKERING STREET 048660</td>\n",
       "      <td>Monthly</td>\n",
       "      <td>Senior Management</td>\n",
       "      <td>We're looking for passionate, design-driven pe...</td>\n",
       "      <td>requirements skills &amp; experience required 3-5 ...</td>\n",
       "      <td>Design</td>\n",
       "      <td>6000.0</td>\n",
       "      <td>8000.0</td>\n",
       "      <td>7000.0</td>\n",
       "      <td>Senior Management</td>\n",
       "      <td>8</td>\n",
       "      <td>0</td>\n",
       "    </tr>\n",
       "    <tr>\n",
       "      <th>618</th>\n",
       "      <td>Executive / Assistant Manager, Actuarial</td>\n",
       "      <td>AIA SINGAPORE PRIVATE LIMITED</td>\n",
       "      <td>AIA TOWER, 1 ROBINSON ROAD 048542</td>\n",
       "      <td>Monthly</td>\n",
       "      <td>Executive</td>\n",
       "      <td>Provide support on product pricing, profit tes...</td>\n",
       "      <td>requirements 2-4 years of relevant actuarial e...</td>\n",
       "      <td>Insurance</td>\n",
       "      <td>4500.0</td>\n",
       "      <td>6500.0</td>\n",
       "      <td>5500.0</td>\n",
       "      <td>Executive</td>\n",
       "      <td>3</td>\n",
       "      <td>0</td>\n",
       "    </tr>\n",
       "    <tr>\n",
       "      <th>678</th>\n",
       "      <td>Application Architect</td>\n",
       "      <td>IBM SINGAPORE PTE LTD</td>\n",
       "      <td>IBM PLACE, 9 CHANGI BUSINESS PARK CENTRAL 1 48...</td>\n",
       "      <td>Monthly</td>\n",
       "      <td>Professional</td>\n",
       "      <td>Cloud Application Migration Services (CAMS) is...</td>\n",
       "      <td>requirements as above</td>\n",
       "      <td>Information Technology</td>\n",
       "      <td>7800.0</td>\n",
       "      <td>10000.0</td>\n",
       "      <td>8900.0</td>\n",
       "      <td>Professional</td>\n",
       "      <td>5</td>\n",
       "      <td>1</td>\n",
       "    </tr>\n",
       "    <tr>\n",
       "      <th>562</th>\n",
       "      <td>Senior Copywriter</td>\n",
       "      <td>DDB WORLDWIDE PTE LTD</td>\n",
       "      <td>PICO CREATIVE CENTRE, 20 KALLANG AVENUE 339411</td>\n",
       "      <td>Monthly</td>\n",
       "      <td>Executive</td>\n",
       "      <td>DDB is the Most-Awarded Effie agency in Singap...</td>\n",
       "      <td>requirements required skills &amp; preferred quali...</td>\n",
       "      <td>Advertising / Media</td>\n",
       "      <td>5000.0</td>\n",
       "      <td>8000.0</td>\n",
       "      <td>6500.0</td>\n",
       "      <td>Executive</td>\n",
       "      <td>3</td>\n",
       "      <td>0</td>\n",
       "    </tr>\n",
       "  </tbody>\n",
       "</table>\n",
       "</div>"
      ],
      "text/plain": [
       "                                           Title  \\\n",
       "175      Cloud Deployment and Migration Engineer   \n",
       "422     Regional Talent Consultant, Asia Pacific   \n",
       "757              Influencer Marketing Specialist   \n",
       "145  APAC Strategy Development Assistant Manager   \n",
       "850                                Data Engineer   \n",
       "496                              Visual Designer   \n",
       "823                        Lead UI / UX Designer   \n",
       "618     Executive / Assistant Manager, Actuarial   \n",
       "678                        Application Architect   \n",
       "562                            Senior Copywriter   \n",
       "\n",
       "                                             Company  \\\n",
       "175                          CLOUD COMRADE PTE. LTD.   \n",
       "422           ROCHE DIAGNOSTICS ASIA PACIFIC PTE LTD   \n",
       "757                       ZIMPLISTIC PRIVATE LIMITED   \n",
       "145                         UPS ASIA GROUP PTE. LTD.   \n",
       "850                           PROPERTYGURU PTE. LTD.   \n",
       "496  ACRONIS ASIA RESEARCH AND DEVELOPMENT PTE. LTD.   \n",
       "823                                FUNDNEL PTE. LTD.   \n",
       "618                    AIA SINGAPORE PRIVATE LIMITED   \n",
       "678                            IBM SINGAPORE PTE LTD   \n",
       "562                            DDB WORLDWIDE PTE LTD   \n",
       "\n",
       "                                              Location Monthly/Annual  \\\n",
       "175               GSM BUILDING, 141 MIDDLE ROAD 188976        Monthly   \n",
       "422                    APERIA, 8 KALLANG AVENUE 339509        Monthly   \n",
       "757            THE CURIE, 83 SCIENCE PARK DRIVE 118258        Monthly   \n",
       "145         UPS HOUSE, 22 CHANGI SOUTH AVENUE 2 486064        Monthly   \n",
       "850       TRIPLEONE SOMERSET, 111 SOMERSET ROAD 238164        Monthly   \n",
       "496     SUNTEC TOWER THREE, 8 TEMASEK BOULEVARD 038988        Monthly   \n",
       "823              NANKIN ROW, 3 PICKERING STREET 048660        Monthly   \n",
       "618                  AIA TOWER, 1 ROBINSON ROAD 048542        Monthly   \n",
       "678  IBM PLACE, 9 CHANGI BUSINESS PARK CENTRAL 1 48...        Monthly   \n",
       "562     PICO CREATIVE CENTRE, 20 KALLANG AVENUE 339411        Monthly   \n",
       "\n",
       "                       Seniority  \\\n",
       "175     Executive, Non-executive   \n",
       "422                 Professional   \n",
       "757  Executive, Senior Executive   \n",
       "145                      Manager   \n",
       "850      Professional, Executive   \n",
       "496                    Executive   \n",
       "823            Senior Management   \n",
       "618                    Executive   \n",
       "678                 Professional   \n",
       "562                    Executive   \n",
       "\n",
       "                                                    JD  \\\n",
       "175  Cloud adoption isn’t just about the migration....   \n",
       "422  Who we are At Roche, 94,000 people across 100 ...   \n",
       "757  About the role: Rotimatic is looking for an ex...   \n",
       "145  Summary The incumbent will be a member of the ...   \n",
       "850  Our websites attract more than 100 million mon...   \n",
       "496  We are currently looking for a VISUAL DESIGNER...   \n",
       "823  We're looking for passionate, design-driven pe...   \n",
       "618  Provide support on product pricing, profit tes...   \n",
       "678  Cloud Application Migration Services (CAMS) is...   \n",
       "562  DDB is the Most-Awarded Effie agency in Singap...   \n",
       "\n",
       "                                                   Req  \\\n",
       "175  requirements candidates with existing aws or g...   \n",
       "422  requirements who you are you are someone who i...   \n",
       "757  requirements key requirements: 2-5+ years at a...   \n",
       "145  requirements requirements possess a bachelor’s...   \n",
       "850  requirements bachelor’s degree in it or releva...   \n",
       "496  requirements you will be awesome at this role ...   \n",
       "823  requirements skills & experience required 3-5 ...   \n",
       "618  requirements 2-4 years of relevant actuarial e...   \n",
       "678                              requirements as above   \n",
       "562  requirements required skills & preferred quali...   \n",
       "\n",
       "                                              Industry  min_salary  \\\n",
       "175                             Information Technology      4000.0   \n",
       "422                        Healthcare / Pharmaceutical      4000.0   \n",
       "757                       Marketing / Public Relations      4000.0   \n",
       "145  Accounting / Auditing / Taxation, Engineering,...      5256.0   \n",
       "850                Engineering, Information Technology      5000.0   \n",
       "496                                             Design      4000.0   \n",
       "823                                             Design      6000.0   \n",
       "618                                          Insurance      4500.0   \n",
       "678                             Information Technology      7800.0   \n",
       "562                                Advertising / Media      5000.0   \n",
       "\n",
       "     max_salary  Monthly_expected_salary              Level  Level_num  \\\n",
       "175      8000.0                   6000.0          Executive          3   \n",
       "422      8500.0                   6250.0       Professional          5   \n",
       "757      7000.0                   5500.0          Executive          3   \n",
       "145      7008.0                   6132.0            Manager          6   \n",
       "850      7000.0                   6000.0       Professional          5   \n",
       "496      6000.0                   5000.0          Executive          3   \n",
       "823      8000.0                   7000.0  Senior Management          8   \n",
       "618      6500.0                   5500.0          Executive          3   \n",
       "678     10000.0                   8900.0       Professional          5   \n",
       "562      8000.0                   6500.0          Executive          3   \n",
       "\n",
       "     above_med_salary  \n",
       "175                 0  \n",
       "422                 0  \n",
       "757                 0  \n",
       "145                 0  \n",
       "850                 0  \n",
       "496                 0  \n",
       "823                 0  \n",
       "618                 0  \n",
       "678                 1  \n",
       "562                 0  "
      ]
     },
     "execution_count": 55,
     "metadata": {},
     "output_type": "execute_result"
    }
   ],
   "source": [
    "analytics.sample(10)"
   ]
  },
  {
   "cell_type": "code",
   "execution_count": 56,
   "metadata": {},
   "outputs": [],
   "source": [
    "corpus = []\n",
    "for i in range(0,913):\n",
    "    req = re.sub('[^a-zA-Z]',' ',analytics['Req'][i])\n",
    "    req = req.split()\n",
    "    req = [word for word in req if not word in set(stopwords.words('english'))]\n",
    "    req = ' '.join(req)\n",
    "    corpus.append(req)"
   ]
  },
  {
   "cell_type": "code",
   "execution_count": 57,
   "metadata": {},
   "outputs": [],
   "source": [
    "from sklearn.feature_extraction.text import CountVectorizer, TfidfVectorizer\n",
    "tfidf = TfidfVectorizer( )\n",
    "X = tfidf.fit_transform(corpus).toarray()\n",
    "y = analytics[\"above_med_salary\"]"
   ]
  },
  {
   "cell_type": "code",
   "execution_count": 58,
   "metadata": {},
   "outputs": [
    {
     "data": {
      "text/plain": [
       "(913, 5604)"
      ]
     },
     "execution_count": 58,
     "metadata": {},
     "output_type": "execute_result"
    }
   ],
   "source": [
    "X.shape"
   ]
  },
  {
   "cell_type": "code",
   "execution_count": 59,
   "metadata": {},
   "outputs": [],
   "source": [
    "X_train, X_test, y_train, y_test = train_test_split(X, y, test_size=0.2, random_state=42)"
   ]
  },
  {
   "cell_type": "code",
   "execution_count": 60,
   "metadata": {},
   "outputs": [
    {
     "data": {
      "text/plain": [
       "BernoulliNB(alpha=1.0, binarize=0.0, class_prior=None, fit_prior=True)"
      ]
     },
     "execution_count": 60,
     "metadata": {},
     "output_type": "execute_result"
    }
   ],
   "source": [
    "from sklearn.naive_bayes import BernoulliNB\n",
    "classifier=BernoulliNB()\n",
    "classifier.fit(X_train,y_train)"
   ]
  },
  {
   "cell_type": "code",
   "execution_count": 61,
   "metadata": {},
   "outputs": [],
   "source": [
    "y_pred = classifier.predict(X_test)"
   ]
  },
  {
   "cell_type": "code",
   "execution_count": 62,
   "metadata": {},
   "outputs": [],
   "source": [
    "# Baseline is 0.50 since we use median"
   ]
  },
  {
   "cell_type": "code",
   "execution_count": 63,
   "metadata": {},
   "outputs": [
    {
     "name": "stdout",
     "output_type": "stream",
     "text": [
      "[[65 33]\n",
      " [20 65]]\n",
      "             precision    recall  f1-score   support\n",
      "\n",
      "          0       0.76      0.66      0.71        98\n",
      "          1       0.66      0.76      0.71        85\n",
      "\n",
      "avg / total       0.72      0.71      0.71       183\n",
      "\n",
      "0.7103825136612022\n"
     ]
    }
   ],
   "source": [
    "from sklearn.metrics import confusion_matrix,classification_report,accuracy_score\n",
    "print(confusion_matrix(y_test,y_pred))\n",
    "print(classification_report(y_test,y_pred))\n",
    "print(accuracy_score(y_test,y_pred))"
   ]
  },
  {
   "cell_type": "code",
   "execution_count": 64,
   "metadata": {},
   "outputs": [],
   "source": [
    "#let's try the JD column\n",
    "corpus = []\n",
    "for i in range(0,913):\n",
    "    req = re.sub('[^a-zA-Z]',' ',analytics['JD'][i])\n",
    "    req = req.split()\n",
    "    req = [word for word in req if not word in set(stopwords.words('english'))]\n",
    "    req = ' '.join(req)\n",
    "    corpus.append(req)"
   ]
  },
  {
   "cell_type": "code",
   "execution_count": 65,
   "metadata": {},
   "outputs": [],
   "source": [
    "tfidf = TfidfVectorizer( )\n",
    "X = tfidf.fit_transform(corpus).toarray()\n",
    "y = analytics[\"above_med_salary\"]"
   ]
  },
  {
   "cell_type": "code",
   "execution_count": 66,
   "metadata": {},
   "outputs": [
    {
     "data": {
      "text/plain": [
       "(913, 7375)"
      ]
     },
     "execution_count": 66,
     "metadata": {},
     "output_type": "execute_result"
    }
   ],
   "source": [
    "X.shape"
   ]
  },
  {
   "cell_type": "code",
   "execution_count": 67,
   "metadata": {},
   "outputs": [],
   "source": [
    "X_train, X_test, y_train, y_test = train_test_split(X, y, test_size=0.2, random_state=42)"
   ]
  },
  {
   "cell_type": "code",
   "execution_count": 68,
   "metadata": {},
   "outputs": [
    {
     "data": {
      "text/plain": [
       "BernoulliNB(alpha=1.0, binarize=0.0, class_prior=None, fit_prior=True)"
      ]
     },
     "execution_count": 68,
     "metadata": {},
     "output_type": "execute_result"
    }
   ],
   "source": [
    "classifier=BernoulliNB()\n",
    "classifier.fit(X_train,y_train)"
   ]
  },
  {
   "cell_type": "code",
   "execution_count": 69,
   "metadata": {},
   "outputs": [
    {
     "name": "stdout",
     "output_type": "stream",
     "text": [
      "[[69 29]\n",
      " [29 56]]\n",
      "             precision    recall  f1-score   support\n",
      "\n",
      "          0       0.70      0.70      0.70        98\n",
      "          1       0.66      0.66      0.66        85\n",
      "\n",
      "avg / total       0.68      0.68      0.68       183\n",
      "\n",
      "0.6830601092896175\n"
     ]
    }
   ],
   "source": [
    "y_pred = classifier.predict(X_test)\n",
    "print(confusion_matrix(y_test,y_pred))\n",
    "print(classification_report(y_test,y_pred))\n",
    "print(accuracy_score(y_test,y_pred))"
   ]
  },
  {
   "cell_type": "code",
   "execution_count": 90,
   "metadata": {},
   "outputs": [],
   "source": [
    "# Precision = TP /TP+FP\n",
    "# Recall = TP/TP + TN"
   ]
  },
  {
   "cell_type": "markdown",
   "metadata": {},
   "source": [
    "## Ans:\n",
    "\n",
    "#### We can see that the requirements (req) column is a better predictor than JD column in predicting if a a job will have higher than median salary. \n",
    "\n",
    "#### comparing the classification reports , we can see that the Req has a higher accuracy score , as well as precision and recall overall.  \n",
    "\n",
    "### Not sure how we can combine all the features tho!"
   ]
  },
  {
   "cell_type": "markdown",
   "metadata": {},
   "source": [
    "### QUESTION 2: Factors that distinguish job category\n",
    "\n",
    "Using the job postings you scraped for part 1 (or potentially new job postings from a second round of scraping), identify features in the data related to job postings that can distinguish job titles from each other. There are a variety of interesting ways you can frame the target variable, for example:\n",
    "- What components of a job posting distinguish data scientists from other data jobs?\n",
    "- What features are important for distinguishing junior vs. senior positions?\n",
    "- Do the requirements for titles vary significantly with industry (e.g. healthcare vs. government)?\n",
    "\n",
    "You may end up making multiple classification models to tackle different questions. Be sure to clearly explain your hypotheses and framing, any feature engineering, and what your target variables are. The type of classification model you choose is up to you. Be sure to interpret your results and evaluate your models' performance.\n"
   ]
  },
  {
   "cell_type": "code",
   "execution_count": 70,
   "metadata": {},
   "outputs": [],
   "source": [
    "# We shall try to predict 'Level' as the target variable. "
   ]
  },
  {
   "cell_type": "code",
   "execution_count": 71,
   "metadata": {},
   "outputs": [],
   "source": [
    "y = analytics['Level']"
   ]
  },
  {
   "cell_type": "code",
   "execution_count": 78,
   "metadata": {},
   "outputs": [
    {
     "data": {
      "text/plain": [
       "Professional         278\n",
       "Manager              172\n",
       "Executive            166\n",
       "Senior Executive      80\n",
       "Middle Management     78\n",
       "Senior Management     46\n",
       "Non-executive         38\n",
       "Fresh/entry level     31\n",
       "Junior Executive      24\n",
       "Name: Level, dtype: int64"
      ]
     },
     "execution_count": 78,
     "metadata": {},
     "output_type": "execute_result"
    }
   ],
   "source": [
    "analytics['Level'].value_counts()"
   ]
  },
  {
   "cell_type": "code",
   "execution_count": 79,
   "metadata": {},
   "outputs": [
    {
     "name": "stdout",
     "output_type": "stream",
     "text": [
      "Baseline: 0.3044906900328587\n"
     ]
    }
   ],
   "source": [
    "print('Baseline:',(278/len(analytics['Level'])))"
   ]
  },
  {
   "cell_type": "code",
   "execution_count": 72,
   "metadata": {},
   "outputs": [],
   "source": [
    "#let's try the JD column\n",
    "corpus = []\n",
    "for i in range(0,913):\n",
    "    req = re.sub('[^a-zA-Z]',' ',analytics['JD'][i])\n",
    "    req = req.split()\n",
    "    req = [word for word in req if not word in set(stopwords.words('english'))]\n",
    "    req = ' '.join(req)\n",
    "    corpus.append(req)"
   ]
  },
  {
   "cell_type": "code",
   "execution_count": 73,
   "metadata": {},
   "outputs": [],
   "source": [
    "from sklearn.feature_extraction.text import CountVectorizer, TfidfVectorizer\n",
    "tfidf = TfidfVectorizer( )\n",
    "X = tfidf.fit_transform(corpus).toarray()"
   ]
  },
  {
   "cell_type": "code",
   "execution_count": 74,
   "metadata": {},
   "outputs": [],
   "source": [
    " X_train, X_test, y_train, y_test = train_test_split(X, y, test_size=0.2, random_state=42)"
   ]
  },
  {
   "cell_type": "code",
   "execution_count": 75,
   "metadata": {},
   "outputs": [
    {
     "data": {
      "text/plain": [
       "MultinomialNB(alpha=1.0, class_prior=None, fit_prior=True)"
      ]
     },
     "execution_count": 75,
     "metadata": {},
     "output_type": "execute_result"
    }
   ],
   "source": [
    "from sklearn.naive_bayes import MultinomialNB\n",
    "classifier=MultinomialNB()\n",
    "classifier.fit(X_train,y_train)"
   ]
  },
  {
   "cell_type": "code",
   "execution_count": 76,
   "metadata": {},
   "outputs": [
    {
     "name": "stdout",
     "output_type": "stream",
     "text": [
      "                   precision    recall  f1-score   support\n",
      "\n",
      "        Executive       0.47      0.39      0.42        36\n",
      "Fresh/entry level       0.00      0.00      0.00         3\n",
      " Junior Executive       0.00      0.00      0.00         4\n",
      "          Manager       0.47      0.43      0.45        42\n",
      "Middle Management       0.00      0.00      0.00        16\n",
      "    Non-executive       0.00      0.00      0.00         6\n",
      "     Professional       0.43      0.88      0.57        56\n",
      " Senior Executive       0.00      0.00      0.00        12\n",
      "Senior Management       0.00      0.00      0.00         8\n",
      "\n",
      "      avg / total       0.33      0.44      0.36       183\n",
      "\n",
      "0.4426229508196721\n"
     ]
    },
    {
     "name": "stderr",
     "output_type": "stream",
     "text": [
      "C:\\Users\\Zach\\Anaconda3\\lib\\site-packages\\sklearn\\metrics\\classification.py:1135: UndefinedMetricWarning: Precision and F-score are ill-defined and being set to 0.0 in labels with no predicted samples.\n",
      "  'precision', 'predicted', average, warn_for)\n"
     ]
    }
   ],
   "source": [
    "y_pred = classifier.predict(X_test)\n",
    "print(classification_report(y_test,y_pred))\n",
    "print(accuracy_score(y_test,y_pred))"
   ]
  },
  {
   "cell_type": "code",
   "execution_count": 80,
   "metadata": {},
   "outputs": [],
   "source": [
    "# That's better than baseline 30.45%"
   ]
  },
  {
   "cell_type": "code",
   "execution_count": 81,
   "metadata": {},
   "outputs": [],
   "source": [
    "# using RF classifier "
   ]
  },
  {
   "cell_type": "code",
   "execution_count": 82,
   "metadata": {},
   "outputs": [],
   "source": [
    "from sklearn.ensemble import RandomForestClassifier"
   ]
  },
  {
   "cell_type": "code",
   "execution_count": 83,
   "metadata": {},
   "outputs": [],
   "source": [
    "X_train, X_test, y_train, y_test = train_test_split(X, y, test_size = 0.2, random_state = 42)b"
   ]
  },
  {
   "cell_type": "code",
   "execution_count": 85,
   "metadata": {},
   "outputs": [
    {
     "data": {
      "text/plain": [
       "RandomForestClassifier(bootstrap=True, class_weight=None, criterion='gini',\n",
       "            max_depth=None, max_features='auto', max_leaf_nodes=None,\n",
       "            min_impurity_decrease=0.0, min_impurity_split=None,\n",
       "            min_samples_leaf=1, min_samples_split=2,\n",
       "            min_weight_fraction_leaf=0.0, n_estimators=100, n_jobs=-1,\n",
       "            oob_score=True, random_state=42, verbose=0, warm_start=False)"
      ]
     },
     "execution_count": 85,
     "metadata": {},
     "output_type": "execute_result"
    }
   ],
   "source": [
    "classifier= RandomForestClassifier(n_jobs =-1,n_estimators = 100, oob_score=True,random_state=42 )\n",
    "classifier.fit(X_train, y_train)"
   ]
  },
  {
   "cell_type": "code",
   "execution_count": 87,
   "metadata": {},
   "outputs": [],
   "source": [
    "y_pred = classifier.predict(X_test)"
   ]
  },
  {
   "cell_type": "code",
   "execution_count": 89,
   "metadata": {},
   "outputs": [
    {
     "name": "stdout",
     "output_type": "stream",
     "text": [
      "[[26  0  0  4  0  0  6  0  0]\n",
      " [ 2  1  0  0  0  0  0  0  0]\n",
      " [ 2  0  0  2  0  0  0  0  0]\n",
      " [ 9  1  0 16  0  0 12  0  4]\n",
      " [ 2  0  0  7  5  0  2  0  0]\n",
      " [ 2  0  0  0  0  3  1  0  0]\n",
      " [ 7  1  0  6  0  0 41  1  0]\n",
      " [ 6  0  0  3  0  0  0  3  0]\n",
      " [ 3  0  0  0  0  1  2  0  2]]\n",
      "                   precision    recall  f1-score   support\n",
      "\n",
      "        Executive       0.44      0.72      0.55        36\n",
      "Fresh/entry level       0.33      0.33      0.33         3\n",
      " Junior Executive       0.00      0.00      0.00         4\n",
      "          Manager       0.42      0.38      0.40        42\n",
      "Middle Management       1.00      0.31      0.48        16\n",
      "    Non-executive       0.75      0.50      0.60         6\n",
      "     Professional       0.64      0.73      0.68        56\n",
      " Senior Executive       0.75      0.25      0.38        12\n",
      "Senior Management       0.33      0.25      0.29         8\n",
      "\n",
      "      avg / total       0.56      0.53      0.51       183\n",
      "\n",
      "accuracy: 0.5300546448087432\n"
     ]
    },
    {
     "name": "stderr",
     "output_type": "stream",
     "text": [
      "C:\\Users\\Zach\\Anaconda3\\lib\\site-packages\\sklearn\\metrics\\classification.py:1135: UndefinedMetricWarning: Precision and F-score are ill-defined and being set to 0.0 in labels with no predicted samples.\n",
      "  'precision', 'predicted', average, warn_for)\n"
     ]
    }
   ],
   "source": [
    "y_pred = classifier.predict(X_test)\n",
    "print(confusion_matrix(y_test,y_pred))\n",
    "print(classification_report(y_test,y_pred))\n",
    "print('Accuracy:',accuracy_score(y_test,y_pred))"
   ]
  },
  {
   "cell_type": "code",
   "execution_count": null,
   "metadata": {},
   "outputs": [],
   "source": [
    "# the RF Classifier got a better results.\n",
    "# Better Accuracy , precision and recall "
   ]
  },
  {
   "cell_type": "raw",
   "metadata": {},
   "source": [
    "#### BONUS\n",
    "\n",
    "5. Answer the salary discussion by using your model to explain the tradeoffs between detecting high vs low salary positions.\n",
    "\n",
    "6. Convert your executive summary into a public blog post of at least 500 words, in which you document your approach in a tutorial for other aspiring data scientists. Link to this in your notebook.\n",
    "\n",
    "---"
   ]
  },
  {
   "cell_type": "code",
   "execution_count": null,
   "metadata": {},
   "outputs": [],
   "source": [
    "# we can use n_weights on the decisiontreeregressor."
   ]
  }
 ],
 "metadata": {
  "kernelspec": {
   "display_name": "Python 3",
   "language": "python",
   "name": "python3"
  },
  "language_info": {
   "codemirror_mode": {
    "name": "ipython",
    "version": 3
   },
   "file_extension": ".py",
   "mimetype": "text/x-python",
   "name": "python",
   "nbconvert_exporter": "python",
   "pygments_lexer": "ipython3",
   "version": "3.7.0"
  }
 },
 "nbformat": 4,
 "nbformat_minor": 2
}
