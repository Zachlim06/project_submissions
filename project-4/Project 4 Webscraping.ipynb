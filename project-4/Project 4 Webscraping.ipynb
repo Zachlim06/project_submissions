{
 "cells": [
  {
   "cell_type": "markdown",
   "metadata": {},
   "source": [
    "# ![](https://ga-dash.s3.amazonaws.com/production/assets/logo-9f88ae6c9c3871690e33280fcf557f33.png)  Project 4: Web Scraping Job Postings\n",
    "\n",
    "## Business Case Overview\n",
    "\n",
    "You're working as a data scientist for a contracting firm that's rapidly expanding. Now that they have their most valuable employee (you!), they need to leverage data to win more contracts. Your firm offers technology and scientific solutions and wants to be competitive in the hiring market. Your principal has two main objectives:\n",
    "\n",
    "   1. Determine the industry factors that are most important in predicting the salary amounts for these data.\n",
    "   2. Determine the factors that distinguish job categories and titles from each other. For example, can required skills accurately predict job title?\n",
    "\n",
    "To limit the scope, your principal has suggested that you *focus on data-related job postings*, e.g. data scientist, data analyst, research scientist, business intelligence, and any others you might think of. You may also want to decrease the scope by *limiting your search to a single region.*\n",
    "\n",
    "Hint: Aggregators like [Indeed.com](https://www.indeed.com) regularly pool job postings from a variety of markets and industries. \n",
    "\n",
    "**Goal:** Scrape your own data from a job aggregation tool like Indeed.com in order to collect the data to best answer these two questions.\n",
    "\n",
    "---\n",
    "\n",
    "## Directions\n",
    "\n",
    "In this project you will be leveraging a variety of skills. The first will be to use the web-scraping and/or API techniques you've learned to collect data on data jobs from Indeed.com or another aggregator. Once you have collected and cleaned the data, you will use it to answer the two questions described above.\n",
    "\n",
    "\n",
    "\n",
    "\n",
    "### BONUS PROBLEM\n",
    "\n",
    "Your boss would rather tell a client incorrectly that they would get a lower salary job than tell a client incorrectly that they would get a high salary job. Adjust one of your models to ease his mind, and explain what it is doing and any tradeoffs. Plot the ROC curve.\n",
    "\n",
    "---\n",
    "\n",
    "## Requirements\n",
    "\n",
    "1. Scrape and prepare your own data.\n",
    "\n",
    "2. **Create and compare at least two models for each section**. One of the two models should be a decision tree or ensemble model. The other can be a classifier or regression of your choosing (e.g. Ridge, logistic regression, KNN, SVM, etc).\n",
    "   - Section 1: Job Salary Trends\n",
    "   - Section 2: Job Category Factors\n",
    "\n",
    "3. Prepare a polished Jupyter Notebook with your analysis for a peer audience of data scientists. \n",
    "   - Make sure to clearly describe and label each section.\n",
    "   - Comment on your code so that others could, in theory, replicate your work.\n",
    "\n",
    "4. A brief writeup in an executive summary, written for a non-technical audience.\n",
    "   - Writeups should be at least 500-1000 words, defining any technical terms, explaining your approach, as well as any risks and limitations.\n",
    "\n",
    "\n",
    "\n",
    "## Suggestions for Getting Started\n",
    "\n",
    "1. Collect data from [Indeed.com](www.indeed.com) (or another aggregator) on data-related jobs to use in predicting salary trends for your analysis.\n",
    "  - Select and parse data from *at least 1000 postings* for jobs, potentially from multiple location searches.\n",
    "2. Find out what factors most directly impact salaries (e.g. title, location, department, etc).\n",
    "  - Test, validate, and describe your models. What factors predict salary category? How do your models perform?\n",
    "3. Discover which features have the greatest importance when determining a low vs. high paying job.\n",
    "  - Your Boss is interested in what overall features hold the greatest significance.\n",
    "  - HR is interested in which SKILLS and KEY WORDS hold the greatest significance.   \n",
    "4. Author an executive summary that details the highlights of your analysis for a non-technical audience.\n",
    "5. If tackling the bonus question, try framing the salary problem as a classification problem detecting low vs. high salary positions.\n",
    "\n",
    "---\n",
    "\n",
    "## Useful Resources\n",
    "\n",
    "- Scraping is one of the most fun, useful and interesting skills out there. Don’t lose out by copying someone else's code!\n",
    "- [Here is some advice on how to write for a non-technical audience](http://programmers.stackexchange.com/questions/11523/explaining-technical-things-to-non-technical-people)\n",
    "- [Documentation for BeautifulSoup can be found here](http://www.crummy.com/software/BeautifulSoup/).\n",
    "\n",
    "---\n",
    "\n",
    "### Project Feedback + Evaluation\n",
    "\n",
    "For all projects, students will be evaluated on a simple 3 point scale (0, 1, or 2). Instructors will use this rubric when scoring student performance on each of the core project **requirements:** \n",
    "\n",
    "Score | Expectations\n",
    "----- | ------------\n",
    "**0** | _Does not meet expectations. Try again._\n",
    "**1** | _Meets expectations. Good job._\n",
    "**2** | _Surpasses expectations. Brilliant!_\n",
    "\n",
    "[For more information on how we grade our DSI projects, see our project grading walkthrough.](https://git.generalassemb.ly/dsi-projects/readme/blob/master/README.md)\n"
   ]
  },
  {
   "cell_type": "markdown",
   "metadata": {},
   "source": [
    "# Webscraping Careers Future"
   ]
  },
  {
   "cell_type": "code",
   "execution_count": 3,
   "metadata": {},
   "outputs": [],
   "source": [
    "from bs4 import BeautifulSoup\n",
    "import requests\n",
    "import re\n",
    "from fake_useragent import UserAgent\n",
    "\n",
    "from selenium import webdriver\n",
    "from time import sleep\n",
    "from selenium.webdriver.common.keys import Keys\n",
    "from selenium.webdriver.common.action_chains import ActionChains\n",
    "from xlsxwriter import Workbook\n",
    "import os\n",
    "\n",
    "import requests\n",
    "import shutil\n",
    "import math"
   ]
  },
  {
   "cell_type": "markdown",
   "metadata": {},
   "source": [
    "### We shall search jobs by term : 'Analytics' 1000+ search results, which includes Data jobs "
   ]
  },
  {
   "cell_type": "raw",
   "metadata": {},
   "source": [
    "\"\"\" DO NOT RUN!!!! UNLESS U WANNA SCRAP FOR 4 HRS\"\"\"\n",
    "\n",
    "# Create table\n",
    "columns = ['Title','Company','Location','Range','Monthly/Annual','Seniority','JD','Req','Industry']\n",
    "cf_df = pd.DataFrame(columns=columns)\n",
    "\n",
    "# Go to URL\n",
    "driver = webdriver.Chrome(r'C:\\Users\\Zach\\Downloads\\chromedriver_win32\\chromedriver') #\n",
    "url = 'https://www.mycareersfuture.sg/'\n",
    "driver.get(url)\n",
    "\n",
    "\n",
    "sleep(1)\n",
    "\n",
    "# search data jobs\n",
    "search_bar = driver.find_element_by_id(\"search-text\")\n",
    "search_param = 'analytics'\n",
    "search_bar.send_keys(search_param)\n",
    "sleep(1)\n",
    "search_bar.send_keys(Keys.RETURN)\n",
    "\n",
    "sleep(5)\n",
    "\n",
    "num_of_results = driver.find_element_by_xpath(\"//span[@id='search-results-message']/div\").text.split()[0]\n",
    "num_of_results = int(num_of_results.replace(',',''))\n",
    "num_of_pages = math.ceil(num_of_results/20)\n",
    "\n",
    "print('Number of Results:',num_of_results)\n",
    "print('Number of Pages',num_of_pages)\n",
    "\n",
    "\n",
    "try:\n",
    "    x_button = driver.find_element_by_xpath(\"//div[@id='snackbar']//span[@type='action']\")\n",
    "    x_button.click()\n",
    "except:\n",
    "    pass\n",
    "\n",
    "for page_num in range(num_of_pages):\n",
    "    \n",
    "    page_url = 'https://www.mycareersfuture.sg/search?search={}&sortBy=new_posting_date&page={}'.format(search_param,page_num)\n",
    "    driver.get(page_url)\n",
    "    try:\n",
    "        x_button = driver.find_element_by_xpath(\"//div[@id='snackbar']//span[@type='action']\")\n",
    "        x_button.click()\n",
    "    except:\n",
    "        pass\n",
    "    try:\n",
    "        close_add_skill = driver.find_element_by_xpath(\"//div[@id='page-search-results']//button[@class='joyride-tooltip__close']\")\n",
    "        close_add_skill.click() \n",
    "    except:\n",
    "        pass\n",
    "\n",
    "    for i in range(20):\n",
    "    \n",
    "        sleep(3)\n",
    "        \n",
    "        x_path =\"//div[@id='job-card-{}']//a[@class='bg-white mb3 w-100 dib v-top pa3 no-underline flex-ns flex-wrap JobCard__card___22xP3']\".format(i%20)\n",
    "        job_link= driver.find_element_by_xpath(x_path).get_attribute('href')\n",
    "        \n",
    "        # Switch control \n",
    "        driver2 = webdriver.Chrome(r'C:\\Users\\Zach\\Downloads\\chromedriver_win32\\chromedriver')\n",
    "        driver2.get(job_link)\n",
    "\n",
    "        sleep(5)\n",
    "        \n",
    "        # Title\n",
    "        try:\n",
    "            job_title = driver2.find_element_by_xpath(\"//h1[@id='job_title']\").text\n",
    "        except:\n",
    "            job_title = 'undisclosed'\n",
    "        # company name\n",
    "        try:    \n",
    "            company_name = driver2.find_element_by_xpath(\"//section[@id='job_details']//p[@name='company']\").text\n",
    "        except:\n",
    "            company_name = 'undisclosed'\n",
    "        #location\n",
    "        try:\n",
    "            job_loc = driver2.find_element_by_xpath(\"//p[@id='address']\").text\n",
    "        except:\n",
    "            job_loc = 'undisclosed'\n",
    "        # Salary Range\n",
    "        try:\n",
    "            salary_range = driver2.find_element_by_class_name(\"lh-solid\").text\n",
    "        except:\n",
    "            salary_range = 'undisclosed'\n",
    "        \n",
    "        # Annual or Monthly\n",
    "        try:\n",
    "            period_salary = driver2.find_element_by_class_name(\"salary_type\").text\n",
    "        except:\n",
    "            period_salary = 'undisclosed'\n",
    "        #Seniority\n",
    "        try:\n",
    "            seniority = driver2.find_element_by_id(\"seniority\").text\n",
    "        except:\n",
    "            seniority = 'undisclosed'\n",
    "        # Req\n",
    "        try:\n",
    "            requirements = driver2.find_element_by_id (\"requirements\").text\n",
    "        except:\n",
    "            requirements ='undisclosed'\n",
    "        # JD\n",
    "        try:\n",
    "            job_descr = driver2.find_element_by_xpath(\"//div [@id ='content']\").text\n",
    "        except:\n",
    "            job_descr = 'undisclosed'\n",
    "        #sector\n",
    "        try:\n",
    "            industry = driver2.find_element_by_xpath(\"//p [@id ='job-categories']\").text\n",
    "        except:\n",
    "            industry = 'undislosed'\n",
    "            \n",
    "        new_row= {'Title':job_title,\n",
    "            'Company':company_name,\n",
    "            'Location':job_loc,\n",
    "            'Range':salary_range,\n",
    "            'Monthly/Annual':period_salary,\n",
    "            'Seniority':seniority,\n",
    "            'Industry':industry,\n",
    "            'JD': job_descr,\n",
    "            'Req':requirements}\n",
    "        \n",
    "        cf_df = cf_df.append(new_row,ignore_index=True)\n",
    "        # Driver2 close\n",
    "        driver2.close()\n",
    "\n"
   ]
  },
  {
   "cell_type": "raw",
   "metadata": {
    "collapsed": true
   },
   "source": [
    "cf_df"
   ]
  },
  {
   "cell_type": "raw",
   "metadata": {},
   "source": [
    "cf_df.to_csv('analyticsfinal.csv',header=columns, index=False)"
   ]
  },
  {
   "cell_type": "markdown",
   "metadata": {},
   "source": [
    "### QUESTION 1: Factors that impact salary\n",
    "\n",
    "To predict salary you will be building either a classification or regression model, using features like the location, title, and summary of the job. If framing this as a regression problem, you will be estimating the listed salary amounts. You may instead choose to frame this as a classification problem, in which case you will create labels from these salaries (high vs. low salary, for example) according to thresholds (such as median salary).\n",
    "\n",
    "You have learned a variety of new skills and models that may be useful for this problem:\n",
    "- NLP\n",
    "- Unsupervised learning and dimensionality reduction techniques (PCA, clustering)\n",
    "- Ensemble methods and decision tree models\n",
    "- SVM models\n",
    "\n",
    "Whatever you decide to use, the most important thing is to justify your choices and interpret your results. *Communication of your process is key.* Note that most listings **DO NOT** come with salary information. You'll need to able to extrapolate or predict the expected salaries for these listings.\n"
   ]
  },
  {
   "cell_type": "code",
   "execution_count": 318,
   "metadata": {},
   "outputs": [],
   "source": [
    "import numpy as np\n",
    "import pandas as pd\n",
    "import matplotlib.pyplot as plt\n",
    "import seaborn as sns\n",
    "import numpy as np\n",
    "import pandas as pd\n",
    "import re"
   ]
  },
  {
   "cell_type": "code",
   "execution_count": 319,
   "metadata": {},
   "outputs": [],
   "source": [
    "analytics = pd.read_csv('analyticsfinal.csv')"
   ]
  },
  {
   "cell_type": "code",
   "execution_count": 320,
   "metadata": {},
   "outputs": [
    {
     "data": {
      "text/plain": [
       "(1040, 9)"
      ]
     },
     "execution_count": 320,
     "metadata": {},
     "output_type": "execute_result"
    }
   ],
   "source": [
    "analytics.shape"
   ]
  },
  {
   "cell_type": "code",
   "execution_count": 321,
   "metadata": {},
   "outputs": [
    {
     "data": {
      "text/plain": [
       "Title             object\n",
       "Company           object\n",
       "Location          object\n",
       "Range             object\n",
       "Monthly/Annual    object\n",
       "Seniority         object\n",
       "JD                object\n",
       "Req               object\n",
       "Industry          object\n",
       "dtype: object"
      ]
     },
     "execution_count": 321,
     "metadata": {},
     "output_type": "execute_result"
    }
   ],
   "source": [
    "analytics.dtypes"
   ]
  },
  {
   "cell_type": "code",
   "execution_count": 322,
   "metadata": {},
   "outputs": [
    {
     "data": {
      "text/plain": [
       "Index(['Title', 'Company', 'Location', 'Range', 'Monthly/Annual', 'Seniority',\n",
       "       'JD', 'Req', 'Industry'],\n",
       "      dtype='object')"
      ]
     },
     "execution_count": 322,
     "metadata": {},
     "output_type": "execute_result"
    }
   ],
   "source": [
    "analytics.columns"
   ]
  },
  {
   "cell_type": "code",
   "execution_count": 323,
   "metadata": {},
   "outputs": [],
   "source": [
    "# drop indices that are 'undisclosed' salary\n",
    "analytics.drop(index=analytics[analytics.Range == 'undisclosed'].index, inplace=True)"
   ]
  },
  {
   "cell_type": "code",
   "execution_count": 324,
   "metadata": {},
   "outputs": [],
   "source": [
    "analytics.reset_index(drop=True,inplace=True)"
   ]
  },
  {
   "cell_type": "code",
   "execution_count": 325,
   "metadata": {},
   "outputs": [
    {
     "name": "stdout",
     "output_type": "stream",
     "text": [
      "<class 'pandas.core.frame.DataFrame'>\n",
      "RangeIndex: 921 entries, 0 to 920\n",
      "Data columns (total 9 columns):\n",
      "Title             921 non-null object\n",
      "Company           921 non-null object\n",
      "Location          921 non-null object\n",
      "Range             921 non-null object\n",
      "Monthly/Annual    921 non-null object\n",
      "Seniority         921 non-null object\n",
      "JD                921 non-null object\n",
      "Req               921 non-null object\n",
      "Industry          921 non-null object\n",
      "dtypes: object(9)\n",
      "memory usage: 64.8+ KB\n"
     ]
    }
   ],
   "source": [
    "analytics.info()"
   ]
  },
  {
   "cell_type": "markdown",
   "metadata": {},
   "source": [
    "### Data Clean up and creating the target variable"
   ]
  },
  {
   "cell_type": "code",
   "execution_count": 326,
   "metadata": {},
   "outputs": [],
   "source": [
    "#cleanup the salary range column\n",
    "analytics.Range = analytics.Range.str.replace('$','')\n",
    "analytics.Range = analytics.Range.str.replace(',','')\n",
    "analytics.Range = analytics.Range.str.split('to')"
   ]
  },
  {
   "cell_type": "code",
   "execution_count": 327,
   "metadata": {},
   "outputs": [],
   "source": [
    "analytics['min_salary'] = analytics.Range.map(lambda x:x[0]).astype(float)"
   ]
  },
  {
   "cell_type": "code",
   "execution_count": 328,
   "metadata": {},
   "outputs": [],
   "source": [
    "analytics['max_salary'] = analytics.Range.map(lambda x:x[1]).astype(float)"
   ]
  },
  {
   "cell_type": "code",
   "execution_count": 329,
   "metadata": {},
   "outputs": [],
   "source": [
    "analytics['expected_salary'] = (analytics['min_salary'] + analytics['max_salary'])/2"
   ]
  },
  {
   "cell_type": "code",
   "execution_count": 330,
   "metadata": {},
   "outputs": [],
   "source": [
    "analytics['Monthly_expected_salary'] = analytics[analytics['Monthly/Annual'] == 'Annually']['expected_salary'].apply(lambda x:(x//12))"
   ]
  },
  {
   "cell_type": "code",
   "execution_count": 331,
   "metadata": {},
   "outputs": [],
   "source": [
    "# add new feature Expected monthly salary  \n",
    "analytics['Monthly_expected_salary'].fillna(analytics['expected_salary'],inplace=True)"
   ]
  },
  {
   "cell_type": "code",
   "execution_count": 332,
   "metadata": {},
   "outputs": [
    {
     "data": {
      "text/plain": [
       "Index(['Title', 'Company', 'Location', 'Range', 'Monthly/Annual', 'Seniority',\n",
       "       'JD', 'Req', 'Industry', 'min_salary', 'max_salary', 'expected_salary',\n",
       "       'Monthly_expected_salary'],\n",
       "      dtype='object')"
      ]
     },
     "execution_count": 332,
     "metadata": {},
     "output_type": "execute_result"
    }
   ],
   "source": [
    "analytics.columns"
   ]
  },
  {
   "cell_type": "code",
   "execution_count": 333,
   "metadata": {},
   "outputs": [],
   "source": [
    "# Drop those that we dont need\n",
    "analytics.drop (columns=['Range','Monthly/Annual','expected_salary'],inplace=True)"
   ]
  },
  {
   "cell_type": "code",
   "execution_count": 334,
   "metadata": {},
   "outputs": [
    {
     "data": {
      "text/plain": [
       "Information Technology          325\n",
       "Banking and Finance              82\n",
       "Sciences / Laboratory / R&D      76\n",
       "Marketing / Public Relations     40\n",
       "Consulting                       38\n",
       "Name: Industry, dtype: int64"
      ]
     },
     "execution_count": 334,
     "metadata": {},
     "output_type": "execute_result"
    }
   ],
   "source": [
    "# Not surprising that \n",
    "analytics.Industry.value_counts().head()"
   ]
  },
  {
   "cell_type": "code",
   "execution_count": 335,
   "metadata": {},
   "outputs": [],
   "source": [
    "# clean up the JD and req column\n",
    "analytics.JD = analytics.JD.str.replace('\\r\\n',' ')\n",
    "analytics.Req = analytics.Req.str.replace('\\r\\n',' ')"
   ]
  },
  {
   "cell_type": "code",
   "execution_count": 336,
   "metadata": {},
   "outputs": [
    {
     "name": "stdout",
     "output_type": "stream",
     "text": [
      "Highest monthly salary 95000.0\n",
      "Lowest monthly salary 625.0\n"
     ]
    }
   ],
   "source": [
    "# looking at the salary ranges\n",
    "print('Highest monthly salary',analytics.Monthly_expected_salary.max()) # I gotta get me one of these jobs?\n",
    "print ('Lowest monthly salary',analytics.Monthly_expected_salary.min())"
   ]
  },
  {
   "cell_type": "code",
   "execution_count": 337,
   "metadata": {
    "scrolled": true
   },
   "outputs": [
    {
     "data": {
      "text/plain": [
       "Professional                                                        269\n",
       "Manager                                                             151\n",
       "Executive                                                           147\n",
       "Senior Executive                                                     80\n",
       "Middle Management                                                    56\n",
       "Non-executive                                                        38\n",
       "Senior Management                                                    34\n",
       "Junior Executive                                                     22\n",
       "Fresh/entry level                                                    18\n",
       "Middle Management, Manager                                           16\n",
       "Manager, Professional                                                12\n",
       "Executive, Senior Executive                                           9\n",
       "Manager, Senior Executive                                             8\n",
       "undisclosed                                                           7\n",
       "Executive, Junior Executive                                           6\n",
       "Senior Management, Manager                                            5\n",
       "Professional, Executive                                               4\n",
       "Senior Management, Middle Management                                  3\n",
       "Executive, Non-executive                                              3\n",
       "Fresh/entry level, Junior Executive, Senior Executive                 2\n",
       "Middle Management, Manager, Professional                              2\n",
       "Middle Management, Executive                                          2\n",
       "Fresh/entry level, Professional                                       2\n",
       "Professional, Executive, Junior Executive                             2\n",
       "Senior Management, Middle Management, Manager                         2\n",
       "Fresh/entry level, Executive                                          2\n",
       "Fresh/entry level, Non-executive                                      2\n",
       "Junior Executive, Senior Executive                                    2\n",
       "Fresh/entry level, Executive, Junior Executive                        2\n",
       "Middle Management, Professional, Executive                            1\n",
       "Professional, Executive, Senior Executive                             1\n",
       "Executive, Junior Executive, Senior Executive                         1\n",
       "Senior Management, Middle Management, Professional                    1\n",
       "Professional, Senior Executive                                        1\n",
       "Fresh/entry level, Executive, Junior Executive, Senior Executive      1\n",
       "Manager, Executive                                                    1\n",
       "Senior Management, Middle Management, Manager, Professional           1\n",
       "Manager, Professional, Senior Executive                               1\n",
       "Professional, Non-executive                                           1\n",
       "Fresh/entry level, Executive, Non-executive, Junior Executive         1\n",
       "Middle Management, Professional                                       1\n",
       "Fresh/entry level, Professional, Non-executive                        1\n",
       "Name: Seniority, dtype: int64"
      ]
     },
     "execution_count": 337,
     "metadata": {},
     "output_type": "execute_result"
    }
   ],
   "source": [
    "# Not sure if this can tell us anything\n",
    "# Look like first 'seniority' call is the most accurate\n",
    "# employers might just be spamming tags to up their chances of being found.\n",
    "analytics.Seniority.value_counts() "
   ]
  },
  {
   "cell_type": "raw",
   "metadata": {},
   "source": [
    "# There are 8 levels detailed on the website\n",
    "# we should labelencode maybe? The levels do mean something , we can feed this into data to find out \n",
    "8.Senior Management\n",
    "7.Middle Management\n",
    "6.Manager\n",
    "5.Professional\n",
    "4.Senior Executive\n",
    "3.Executive\n",
    "2.Junior Executive\n",
    "1.Non-executive\n",
    "0.Fresh/entry level"
   ]
  },
  {
   "cell_type": "code",
   "execution_count": 338,
   "metadata": {},
   "outputs": [],
   "source": [
    "#let's just take the first one\n",
    "analytics['Level'] = analytics.Seniority.apply(lambda x:x.split(',')[0])"
   ]
  },
  {
   "cell_type": "code",
   "execution_count": 339,
   "metadata": {},
   "outputs": [
    {
     "data": {
      "text/plain": [
       "array(['Manager', 'Middle Management', 'Professional', 'Senior Executive',\n",
       "       'Executive', 'Fresh/entry level', 'Senior Management',\n",
       "       'Non-executive', 'Junior Executive', 'undisclosed'], dtype=object)"
      ]
     },
     "execution_count": 339,
     "metadata": {},
     "output_type": "execute_result"
    }
   ],
   "source": [
    "analytics.Level.unique()"
   ]
  },
  {
   "cell_type": "code",
   "execution_count": 340,
   "metadata": {},
   "outputs": [],
   "source": [
    "analytics['Level_num'] = analytics['Level'].replace({'Senior Management':8,\n",
    "                            'Middle Management':7,\n",
    "                            'Manager':6,\n",
    "                            'Professional':5,\n",
    "                            'Senior Executive':4,\n",
    "                            'Executive':3,\n",
    "                            'Junior Executive':2,\n",
    "                            'Non-executive':1,\n",
    "                            'Fresh/entry level':0,\n",
    "                           'undisclosed':'undisclosed'})"
   ]
  },
  {
   "cell_type": "code",
   "execution_count": 341,
   "metadata": {},
   "outputs": [],
   "source": [
    "analytics.drop('Seniority',axis=1,inplace=True)"
   ]
  },
  {
   "cell_type": "code",
   "execution_count": 342,
   "metadata": {},
   "outputs": [
    {
     "data": {
      "text/plain": [
       "5              278\n",
       "6              173\n",
       "3              166\n",
       "4               80\n",
       "7               78\n",
       "8               46\n",
       "1               38\n",
       "0               31\n",
       "2               24\n",
       "undisclosed      7\n",
       "Name: Level_num, dtype: int64"
      ]
     },
     "execution_count": 342,
     "metadata": {},
     "output_type": "execute_result"
    }
   ],
   "source": [
    "analytics.Level_num.value_counts()"
   ]
  },
  {
   "cell_type": "code",
   "execution_count": 343,
   "metadata": {},
   "outputs": [],
   "source": [
    "#drop rows without seniority\n",
    "analytics.drop(index=analytics[analytics.Level == 'undisclosed'].index, inplace=True)"
   ]
  },
  {
   "cell_type": "code",
   "execution_count": 254,
   "metadata": {
    "scrolled": true
   },
   "outputs": [
    {
     "data": {
      "text/plain": [
       "0      Requirements About you To be successfully cons...\n",
       "1      Requirements PhD/Masters/Bachelors in Computer...\n",
       "2      Requirements Experience in big data and machin...\n",
       "3      Requirements 7+ years professional application...\n",
       "4      Requirements Your role:  Design and developmen...\n",
       "5      Requirements University degree with focus on q...\n",
       "6      Requirements Minimum of 5 years of experience ...\n",
       "7      Requirements The successful candidate should p...\n",
       "8      Requirements The successful candidate should p...\n",
       "9      Requirements The Marketing Operations Speciali...\n",
       "10     Requirements SENIOR RECRUITER, APAC - Base in ...\n",
       "11     Requirements Ideal candidates for this role: T...\n",
       "12     Requirements Proficient in MS Office skills (M...\n",
       "13     Requirements a) MS / BS Computer Science / Eng...\n",
       "14     Requirements BSc/Ba in Banking and Finance or ...\n",
       "15     Requirements Understand key concepts, techniqu...\n",
       "16     Requirements - BSc/BA in Computer Science, Eng...\n",
       "17     Requirements Understand key concepts, techniqu...\n",
       "18     Requirements Must have completed completed Bac...\n",
       "19     Requirements Strong logic & quantitative skill...\n",
       "20     Requirements Strong logic & quantitative skill...\n",
       "21     Requirements  You will be a graduate in HRM or...\n",
       "22     Requirements At least 5 years of industry expe...\n",
       "23     Requirements The candidate need to have minimu...\n",
       "24     Requirements Solid experience in Java, JavaScr...\n",
       "25                                           undisclosed\n",
       "26     Requirements MS in computer science or a relat...\n",
       "27     Requirements Master’s Degree in software Engin...\n",
       "28     Requirements Bachelors/Masters in Computer Sci...\n",
       "29     Requirements Technical expertise in data minin...\n",
       "                             ...                        \n",
       "888    Requirements Requirements   ·       3 years of...\n",
       "889    Requirements Requirements   ·       5 years of...\n",
       "890    Requirements Requirements   ·       6 years of...\n",
       "891    Requirements Requirements   ·       5 years of...\n",
       "892    Requirements Requirements   ·       5 years of...\n",
       "893    Requirements Requirements   ·       4 years of...\n",
       "894    Requirements Requirements   ·       4 years of...\n",
       "895    Requirements Requirements   ·       3 years of...\n",
       "896    Requirements Requirements   ·      6 years of ...\n",
       "897    Requirements Requirements   ·      5 years of ...\n",
       "898    Requirements Requirements   ·      4 years of ...\n",
       "899    Requirements Requirements   ·      4 years of ...\n",
       "900    Requirements Requirements   ·      3 years of ...\n",
       "901    Requirements Requirements   ·       6 years of...\n",
       "902    Requirements Requirements   ·       6 years of...\n",
       "903    Requirements Requirements   ·       5 years of...\n",
       "904    Requirements Requirements   ·       4 years of...\n",
       "905    Requirements Requirements   ·       4 years of...\n",
       "906    Requirements Requirements   ·       3 years of...\n",
       "907    Requirements Requirements   ·      6 years of ...\n",
       "908    Requirements Requirements   ·      4 years of ...\n",
       "909    Requirements Requirements   ·      4 years of ...\n",
       "910    Requirements Requirements   ·      3 years of ...\n",
       "911    Requirements Requirements   ·      5 years of ...\n",
       "912    Requirements ~ Analyse data for business insig...\n",
       "913    Requirements What you have done:  Commercial ...\n",
       "914    Requirements Knowledge in at least 1 of the fo...\n",
       "915    Requirements Knowledge in at least 1 of the fo...\n",
       "916    Requirements Experience in SAS Experience BI &...\n",
       "918                                          undisclosed\n",
       "Name: Req, Length: 914, dtype: object"
      ]
     },
     "execution_count": 254,
     "metadata": {},
     "output_type": "execute_result"
    }
   ],
   "source": [
    "analytics.Req"
   ]
  },
  {
   "cell_type": "code",
   "execution_count": 344,
   "metadata": {},
   "outputs": [
    {
     "data": {
      "text/plain": [
       "118"
      ]
     },
     "execution_count": 344,
     "metadata": {},
     "output_type": "execute_result"
    }
   ],
   "source": [
    "# same for the industry columns?\n",
    "# there are 121 with second industry out of 921 . Keep the first one\n",
    "len([list[1] for list in analytics.Industry.apply(lambda x:x.split(',')) if len(list) >=2])"
   ]
  },
  {
   "cell_type": "code",
   "execution_count": 345,
   "metadata": {},
   "outputs": [],
   "source": [
    "analytics['Industry'] = analytics.Industry.apply(lambda x:x.split(',')[0])"
   ]
  },
  {
   "cell_type": "code",
   "execution_count": 368,
   "metadata": {},
   "outputs": [],
   "source": [
    "analytics['Experience'] = analytics.Req.str.findall(r\"\\d\\syears\\sof\\sexperience\")"
   ]
  },
  {
   "cell_type": "code",
   "execution_count": 369,
   "metadata": {},
   "outputs": [],
   "source": [
    "analytics['Experience'] = analytics['Experience'].astype(str).replace('[]',np.nan).str.findall(r'\\d')"
   ]
  },
  {
   "cell_type": "code",
   "execution_count": 378,
   "metadata": {},
   "outputs": [
    {
     "data": {
      "text/plain": [
       "6            [5]\n",
       "7         [5, 4]\n",
       "8         [5, 4]\n",
       "9            [3]\n",
       "21           [6]\n",
       "26           [3]\n",
       "32           [5]\n",
       "35           [5]\n",
       "41           [2]\n",
       "43           [3]\n",
       "44           [3]\n",
       "52           [3]\n",
       "61           [3]\n",
       "63           [4]\n",
       "66        [5, 3]\n",
       "75           [3]\n",
       "81           [8]\n",
       "93           [0]\n",
       "95        [4, 4]\n",
       "117          [5]\n",
       "119    [3, 3, 1]\n",
       "120          [3]\n",
       "121    [3, 3, 1]\n",
       "127          [0]\n",
       "131          [3]\n",
       "135          [4]\n",
       "139       [7, 5]\n",
       "141          [5]\n",
       "144    [3, 3, 1]\n",
       "145          [3]\n",
       "         ...    \n",
       "882          [4]\n",
       "883          [4]\n",
       "884          [3]\n",
       "885          [6]\n",
       "886          [4]\n",
       "887          [4]\n",
       "888          [3]\n",
       "889          [5]\n",
       "890          [6]\n",
       "891          [5]\n",
       "892          [5]\n",
       "893          [4]\n",
       "894          [4]\n",
       "895          [3]\n",
       "896          [6]\n",
       "897          [5]\n",
       "898          [4]\n",
       "899          [4]\n",
       "900          [3]\n",
       "901          [6]\n",
       "902          [6]\n",
       "903          [5]\n",
       "904          [4]\n",
       "905          [4]\n",
       "906          [3]\n",
       "907          [6]\n",
       "908          [4]\n",
       "909          [4]\n",
       "910          [3]\n",
       "911          [5]\n",
       "Name: Experience, Length: 198, dtype: object"
      ]
     },
     "execution_count": 378,
     "metadata": {},
     "output_type": "execute_result"
    }
   ],
   "source": [
    "analytics[analytics['Experience'].notnull()]['Experience']"
   ]
  },
  {
   "cell_type": "markdown",
   "metadata": {},
   "source": [
    "### EDA"
   ]
  },
  {
   "cell_type": "code",
   "execution_count": 105,
   "metadata": {},
   "outputs": [],
   "source": [
    "analytics['Req'] = analytics.Req.apply(lambda x:x.lower())"
   ]
  },
  {
   "cell_type": "code",
   "execution_count": 317,
   "metadata": {},
   "outputs": [
    {
     "name": "stdout",
     "output_type": "stream",
     "text": [
      "Requires Degree: 273\n",
      "Requires Masters: 10\n",
      "Requires PhD: 0\n"
     ]
    }
   ],
   "source": [
    "# about half of the jobs explicitly state they require at least a degree\n",
    "print('Requires Degree:' , len(analytics[analytics.Req.str.contains('bsc|degree|bachelor')]))\n",
    "print('Requires Masters:' , len(analytics[analytics.Req.str.contains('master')]))\n",
    "print('Requires PhD:' , len(analytics[analytics.Req.str.contains('phd')]))"
   ]
  },
  {
   "cell_type": "code",
   "execution_count": 107,
   "metadata": {},
   "outputs": [
    {
     "data": {
      "image/png": "[encoded data removed]",
      "text/plain": [
       "<Figure size 360x360 with 1 Axes>"
      ]
     },
     "metadata": {},
     "output_type": "display_data"
    }
   ],
   "source": [
    "#distribution of seniority vs monthly expected pay \n",
    "sns.set_style(\"whitegrid\")\n",
    "plt.figure(figsize=(5,5))\n",
    "plt.scatter(analytics['Level_num'],analytics['Monthly_expected_salary'])\n",
    "plt.title ('Seniority vs Monthly Expected Pay')\n",
    "plt.xlabel('Seniority')\n",
    "plt.ylabel('Expected Monthly Salary')\n",
    "plt.show()"
   ]
  },
  {
   "cell_type": "code",
   "execution_count": 88,
   "metadata": {},
   "outputs": [
    {
     "name": "stderr",
     "output_type": "stream",
     "text": [
      "/Users/zachlim/anaconda3/lib/python3.6/site-packages/matplotlib/axes/_axes.py:6462: UserWarning: The 'normed' kwarg is deprecated, and has been replaced by the 'density' kwarg.\n",
      "  warnings.warn(\"The 'normed' kwarg is deprecated, and has been \"\n"
     ]
    },
    {
     "data": {
      "image/png": "[encoded data removed]",
      "text/plain": [
       "<Figure size 720x360 with 1 Axes>"
      ]
     },
     "metadata": {},
     "output_type": "display_data"
    }
   ],
   "source": [
    "# Salaries are very right skewed. Highest wage earners make multiples of the mode ,median and mean\n",
    "plt.figure (figsize = (10,5))\n",
    "sns.distplot(analytics['Monthly_expected_salary'],norm_hist=False,kde=False,bins = 65)\n",
    "plt.title ('Distribution of salaries')\n",
    "plt.xlabel ('Normalised Monthly Salary')\n",
    "plt.show()"
   ]
  },
  {
   "cell_type": "code",
   "execution_count": 36,
   "metadata": {
    "scrolled": true
   },
   "outputs": [
    {
     "data": {
      "text/html": [
       "<div>\n",
       "<style scoped>\n",
       "    .dataframe tbody tr th:only-of-type {\n",
       "        vertical-align: middle;\n",
       "    }\n",
       "\n",
       "    .dataframe tbody tr th {\n",
       "        vertical-align: top;\n",
       "    }\n",
       "\n",
       "    .dataframe thead th {\n",
       "        text-align: right;\n",
       "    }\n",
       "</style>\n",
       "<table border=\"1\" class=\"dataframe\">\n",
       "  <thead>\n",
       "    <tr style=\"text-align: right;\">\n",
       "      <th></th>\n",
       "      <th>Title</th>\n",
       "      <th>Company</th>\n",
       "      <th>Location</th>\n",
       "      <th>JD</th>\n",
       "      <th>Req</th>\n",
       "      <th>Industry</th>\n",
       "      <th>min_salary</th>\n",
       "      <th>max_salary</th>\n",
       "      <th>Monthly_expected_salary</th>\n",
       "      <th>Level</th>\n",
       "    </tr>\n",
       "  </thead>\n",
       "  <tbody>\n",
       "    <tr>\n",
       "      <th>7</th>\n",
       "      <td>Senior Manager / Manager / Senior Consultant</td>\n",
       "      <td>DELOITTE &amp; TOUCHE ENTERPRISE RISK SERVICES PTE...</td>\n",
       "      <td>OUE DOWNTOWN, 6 SHENTON WAY 068809</td>\n",
       "      <td>You will work with clients to assess and impro...</td>\n",
       "      <td>requirements the successful candidate should p...</td>\n",
       "      <td>Risk Management</td>\n",
       "      <td>4500.0</td>\n",
       "      <td>10000.0</td>\n",
       "      <td>7250.0</td>\n",
       "      <td>Manager</td>\n",
       "    </tr>\n",
       "    <tr>\n",
       "      <th>12</th>\n",
       "      <td>Assistant Planner</td>\n",
       "      <td>CYBERSPROUT PTE. LTD.</td>\n",
       "      <td>GOLDEN AGRI PLAZA, 108 PASIR PANJANG ROAD 118535</td>\n",
       "      <td>THE ROLE Responsible for the accurate, efficie...</td>\n",
       "      <td>requirements proficient in ms office skills (m...</td>\n",
       "      <td>Information Technology</td>\n",
       "      <td>3600.0</td>\n",
       "      <td>5000.0</td>\n",
       "      <td>4300.0</td>\n",
       "      <td>Executive</td>\n",
       "    </tr>\n",
       "    <tr>\n",
       "      <th>317</th>\n",
       "      <td>Associate Engineer (Fullstack)</td>\n",
       "      <td>NTUC ENTERPRISE NEXUS CO-OPERATIVE LIMITED</td>\n",
       "      <td>undisclosed</td>\n",
       "      <td>Today, we have embarked on a transformation an...</td>\n",
       "      <td>requirements   requirements  ·       3  years ...</td>\n",
       "      <td>Information Technology</td>\n",
       "      <td>5000.0</td>\n",
       "      <td>8000.0</td>\n",
       "      <td>6500.0</td>\n",
       "      <td>Professional</td>\n",
       "    </tr>\n",
       "    <tr>\n",
       "      <th>834</th>\n",
       "      <td>Risk Assurance Senior Associate (Data analytic...</td>\n",
       "      <td>ERNST &amp; YOUNG ADVISORY PTE. LTD.</td>\n",
       "      <td>1 RAFFLES QUAY 048583</td>\n",
       "      <td>Our clients rely on us in providing them with ...</td>\n",
       "      <td>requirements your key responsibilities as part...</td>\n",
       "      <td>Consulting</td>\n",
       "      <td>3000.0</td>\n",
       "      <td>6000.0</td>\n",
       "      <td>4500.0</td>\n",
       "      <td>Fresh/entry level</td>\n",
       "    </tr>\n",
       "    <tr>\n",
       "      <th>245</th>\n",
       "      <td>SAP BI HANA Consultant</td>\n",
       "      <td>ICON CONSULTING-GROUP PTE. LTD.</td>\n",
       "      <td>undisclosed</td>\n",
       "      <td>We are looking for an experienced SAP BI lead ...</td>\n",
       "      <td>requirements bachelor’s degree in computer sci...</td>\n",
       "      <td>Information Technology</td>\n",
       "      <td>8000.0</td>\n",
       "      <td>12000.0</td>\n",
       "      <td>10000.0</td>\n",
       "      <td>Professional</td>\n",
       "    </tr>\n",
       "    <tr>\n",
       "      <th>196</th>\n",
       "      <td>Data Analyst</td>\n",
       "      <td>COMPANY UNDISCLOSED</td>\n",
       "      <td>undisclosed</td>\n",
       "      <td>About Our Client Our client is a market leader...</td>\n",
       "      <td>requirements the successful applicant bachelor...</td>\n",
       "      <td>Information Technology</td>\n",
       "      <td>5000.0</td>\n",
       "      <td>7000.0</td>\n",
       "      <td>6000.0</td>\n",
       "      <td>Professional</td>\n",
       "    </tr>\n",
       "    <tr>\n",
       "      <th>161</th>\n",
       "      <td>Data Analytics - Excel Macro, Tableau, SQL</td>\n",
       "      <td>OPTIMUM SOLUTIONS (SINGAPORE) PTE LTD</td>\n",
       "      <td>PLAZA 8 @ CBP, 1 CHANGI BUSINESS PARK CRESCENT...</td>\n",
       "      <td>Optimum Solutions (Company Registration Number...</td>\n",
       "      <td>requirements essential technical skill :- min ...</td>\n",
       "      <td>Information Technology</td>\n",
       "      <td>4500.0</td>\n",
       "      <td>8500.0</td>\n",
       "      <td>6500.0</td>\n",
       "      <td>Senior Management</td>\n",
       "    </tr>\n",
       "    <tr>\n",
       "      <th>666</th>\n",
       "      <td>SEO Marketing Manager</td>\n",
       "      <td>CYBERSPROUT PTE. LTD.</td>\n",
       "      <td>GOLDEN AGRI PLAZA, 108 PASIR PANJANG ROAD 118535</td>\n",
       "      <td>Create, implement, analyse SEO strategies for ...</td>\n",
       "      <td>requirements 2+ years’ experience in search en...</td>\n",
       "      <td>Marketing / Public Relations</td>\n",
       "      <td>4500.0</td>\n",
       "      <td>6000.0</td>\n",
       "      <td>5250.0</td>\n",
       "      <td>Manager</td>\n",
       "    </tr>\n",
       "    <tr>\n",
       "      <th>858</th>\n",
       "      <td>Officer, Business Operations, Chief Technology...</td>\n",
       "      <td>ALEXANDER MANN BPO SOLUTIONS (SINGAPORE) PTE. ...</td>\n",
       "      <td>SGX CENTRE I, 2 SHENTON WAY 068804</td>\n",
       "      <td>About Bank of America Merrill Lynch: Our purpo...</td>\n",
       "      <td>requirements key requirements minimum 2 years ...</td>\n",
       "      <td>Banking and Finance</td>\n",
       "      <td>5000.0</td>\n",
       "      <td>7000.0</td>\n",
       "      <td>6000.0</td>\n",
       "      <td>Professional</td>\n",
       "    </tr>\n",
       "    <tr>\n",
       "      <th>680</th>\n",
       "      <td>Business Intelligence Lead</td>\n",
       "      <td>KELLY SERVICES (SINGAPORE) PTE. LTD.</td>\n",
       "      <td>ASIA SQUARE TOWER 1, 8 MARINA VIEW 018960</td>\n",
       "      <td>Primary responsibility for QLIK Reports/Dashbo...</td>\n",
       "      <td>requirements requirements: knowledge of script...</td>\n",
       "      <td>Information Technology</td>\n",
       "      <td>8000.0</td>\n",
       "      <td>12000.0</td>\n",
       "      <td>10000.0</td>\n",
       "      <td>Non-executive</td>\n",
       "    </tr>\n",
       "  </tbody>\n",
       "</table>\n",
       "</div>"
      ],
      "text/plain": [
       "                                                 Title  \\\n",
       "7         Senior Manager / Manager / Senior Consultant   \n",
       "12                                   Assistant Planner   \n",
       "317                     Associate Engineer (Fullstack)   \n",
       "834  Risk Assurance Senior Associate (Data analytic...   \n",
       "245                             SAP BI HANA Consultant   \n",
       "196                                       Data Analyst   \n",
       "161         Data Analytics - Excel Macro, Tableau, SQL   \n",
       "666                              SEO Marketing Manager   \n",
       "858  Officer, Business Operations, Chief Technology...   \n",
       "680                         Business Intelligence Lead   \n",
       "\n",
       "                                               Company  \\\n",
       "7    DELOITTE & TOUCHE ENTERPRISE RISK SERVICES PTE...   \n",
       "12                               CYBERSPROUT PTE. LTD.   \n",
       "317         NTUC ENTERPRISE NEXUS CO-OPERATIVE LIMITED   \n",
       "834                   ERNST & YOUNG ADVISORY PTE. LTD.   \n",
       "245                    ICON CONSULTING-GROUP PTE. LTD.   \n",
       "196                                COMPANY UNDISCLOSED   \n",
       "161              OPTIMUM SOLUTIONS (SINGAPORE) PTE LTD   \n",
       "666                              CYBERSPROUT PTE. LTD.   \n",
       "858  ALEXANDER MANN BPO SOLUTIONS (SINGAPORE) PTE. ...   \n",
       "680               KELLY SERVICES (SINGAPORE) PTE. LTD.   \n",
       "\n",
       "                                              Location  \\\n",
       "7                   OUE DOWNTOWN, 6 SHENTON WAY 068809   \n",
       "12    GOLDEN AGRI PLAZA, 108 PASIR PANJANG ROAD 118535   \n",
       "317                                        undisclosed   \n",
       "834                              1 RAFFLES QUAY 048583   \n",
       "245                                        undisclosed   \n",
       "196                                        undisclosed   \n",
       "161  PLAZA 8 @ CBP, 1 CHANGI BUSINESS PARK CRESCENT...   \n",
       "666   GOLDEN AGRI PLAZA, 108 PASIR PANJANG ROAD 118535   \n",
       "858                 SGX CENTRE I, 2 SHENTON WAY 068804   \n",
       "680          ASIA SQUARE TOWER 1, 8 MARINA VIEW 018960   \n",
       "\n",
       "                                                    JD  \\\n",
       "7    You will work with clients to assess and impro...   \n",
       "12   THE ROLE Responsible for the accurate, efficie...   \n",
       "317  Today, we have embarked on a transformation an...   \n",
       "834  Our clients rely on us in providing them with ...   \n",
       "245  We are looking for an experienced SAP BI lead ...   \n",
       "196  About Our Client Our client is a market leader...   \n",
       "161  Optimum Solutions (Company Registration Number...   \n",
       "666  Create, implement, analyse SEO strategies for ...   \n",
       "858  About Bank of America Merrill Lynch: Our purpo...   \n",
       "680  Primary responsibility for QLIK Reports/Dashbo...   \n",
       "\n",
       "                                                   Req  \\\n",
       "7    requirements the successful candidate should p...   \n",
       "12   requirements proficient in ms office skills (m...   \n",
       "317  requirements   requirements  ·       3  years ...   \n",
       "834  requirements your key responsibilities as part...   \n",
       "245  requirements bachelor’s degree in computer sci...   \n",
       "196  requirements the successful applicant bachelor...   \n",
       "161  requirements essential technical skill :- min ...   \n",
       "666  requirements 2+ years’ experience in search en...   \n",
       "858  requirements key requirements minimum 2 years ...   \n",
       "680  requirements requirements: knowledge of script...   \n",
       "\n",
       "                         Industry  min_salary  max_salary  \\\n",
       "7                 Risk Management      4500.0     10000.0   \n",
       "12         Information Technology      3600.0      5000.0   \n",
       "317        Information Technology      5000.0      8000.0   \n",
       "834                    Consulting      3000.0      6000.0   \n",
       "245        Information Technology      8000.0     12000.0   \n",
       "196        Information Technology      5000.0      7000.0   \n",
       "161        Information Technology      4500.0      8500.0   \n",
       "666  Marketing / Public Relations      4500.0      6000.0   \n",
       "858           Banking and Finance      5000.0      7000.0   \n",
       "680        Information Technology      8000.0     12000.0   \n",
       "\n",
       "     Monthly_expected_salary              Level  \n",
       "7                     7250.0            Manager  \n",
       "12                    4300.0          Executive  \n",
       "317                   6500.0       Professional  \n",
       "834                   4500.0  Fresh/entry level  \n",
       "245                  10000.0       Professional  \n",
       "196                   6000.0       Professional  \n",
       "161                   6500.0  Senior Management  \n",
       "666                   5250.0            Manager  \n",
       "858                   6000.0       Professional  \n",
       "680                  10000.0      Non-executive  "
      ]
     },
     "execution_count": 36,
     "metadata": {},
     "output_type": "execute_result"
    }
   ],
   "source": [
    "analytics.sample(10)"
   ]
  },
  {
   "cell_type": "code",
   "execution_count": null,
   "metadata": {},
   "outputs": [],
   "source": []
  },
  {
   "cell_type": "code",
   "execution_count": null,
   "metadata": {},
   "outputs": [],
   "source": []
  },
  {
   "cell_type": "code",
   "execution_count": null,
   "metadata": {},
   "outputs": [],
   "source": []
  },
  {
   "cell_type": "code",
   "execution_count": null,
   "metadata": {},
   "outputs": [],
   "source": []
  },
  {
   "cell_type": "code",
   "execution_count": null,
   "metadata": {},
   "outputs": [],
   "source": []
  },
  {
   "cell_type": "code",
   "execution_count": null,
   "metadata": {},
   "outputs": [],
   "source": []
  },
  {
   "cell_type": "markdown",
   "metadata": {},
   "source": [
    "### QUESTION 2: Factors that distinguish job category\n",
    "\n",
    "Using the job postings you scraped for part 1 (or potentially new job postings from a second round of scraping), identify features in the data related to job postings that can distinguish job titles from each other. There are a variety of interesting ways you can frame the target variable, for example:\n",
    "- What components of a job posting distinguish data scientists from other data jobs?\n",
    "- What features are important for distinguishing junior vs. senior positions?\n",
    "- Do the requirements for titles vary significantly with industry (e.g. healthcare vs. government)?\n",
    "\n",
    "You may end up making multiple classification models to tackle different questions. Be sure to clearly explain your hypotheses and framing, any feature engineering, and what your target variables are. The type of classification model you choose is up to you. Be sure to interpret your results and evaluate your models' performance.\n"
   ]
  },
  {
   "cell_type": "code",
   "execution_count": null,
   "metadata": {},
   "outputs": [],
   "source": [
    "# we can create a target variable that identifies "
   ]
  },
  {
   "cell_type": "code",
   "execution_count": null,
   "metadata": {},
   "outputs": [],
   "source": [
    "import re\n",
    "import nltk\n",
    "nltk.download('stopwords')\n",
    "from nltk.corpus import stopwords\n",
    "from nltk.stem.porter import PorterStemmer"
   ]
  },
  {
   "cell_type": "code",
   "execution_count": null,
   "metadata": {},
   "outputs": [],
   "source": [
    "corpus = []\n",
    "for i in range(0,920):\n",
    "    req = re.sub('[^a-zA-Z]',' ',analytics['Req'][i])\n",
    "    req = req.split()\n",
    "    ps = PorterStemmer()\n",
    "    req = [word for word in req if not word in set(stopwords.words('english'))]\n",
    "    req = ' '.join(req)\n",
    "    corpus.append(req)"
   ]
  },
  {
   "cell_type": "code",
   "execution_count": null,
   "metadata": {},
   "outputs": [],
   "source": [
    "from sklearn.feature_extraction.text import CountVectorizer\n",
    "\n",
    "cv = CountVectorizer(analyzer=text_process)\n",
    "X= cv.fit_transform(corpus)\n",
    "y = analytics.iloc[:,-2]"
   ]
  },
  {
   "cell_type": "code",
   "execution_count": null,
   "metadata": {},
   "outputs": [],
   "source": [
    "from sklearn.feature_extraction.text import TfidfTransformer\n",
    "\n",
    "tfidf_transformer = TfidfTransformer().fit_transform(corpus)"
   ]
  },
  {
   "cell_type": "code",
   "execution_count": null,
   "metadata": {},
   "outputs": [],
   "source": [
    "from sklearn.cross_validation import train_test_split\n",
    "from sklearn.naive_bayes import MultinomialNB\n",
    "\n",
    "from sklearn.pipeline import Pipeline"
   ]
  },
  {
   "cell_type": "code",
   "execution_count": null,
   "metadata": {},
   "outputs": [],
   "source": []
  },
  {
   "cell_type": "markdown",
   "metadata": {},
   "source": [
    "#### BONUS\n",
    "\n",
    "5. Answer the salary discussion by using your model to explain the tradeoffs between detecting high vs low salary positions.\n",
    "\n",
    "6. Convert your executive summary into a public blog post of at least 500 words, in which you document your approach in a tutorial for other aspiring data scientists. Link to this in your notebook.\n",
    "\n",
    "---"
   ]
  },
  {
   "cell_type": "code",
   "execution_count": null,
   "metadata": {},
   "outputs": [],
   "source": []
  }
 ],
 "metadata": {
  "kernelspec": {
   "display_name": "Python 3",
   "language": "python",
   "name": "python3"
  },
  "language_info": {
   "codemirror_mode": {
    "name": "ipython",
    "version": 3
   },
   "file_extension": ".py",
   "mimetype": "text/x-python",
   "name": "python",
   "nbconvert_exporter": "python",
   "pygments_lexer": "ipython3",
   "version": "3.6.4"
  }
 },
 "nbformat": 4,
 "nbformat_minor": 2
}
